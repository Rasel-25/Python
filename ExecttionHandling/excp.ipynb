{
 "cells": [
  {
   "cell_type": "code",
   "execution_count": null,
   "metadata": {},
   "outputs": [],
   "source": [
    "a=45\n",
    "b=0\n",
    "result=a/b\n",
    "result\n",
    "print('Welcome')"
   ]
  },
  {
   "cell_type": "markdown",
   "metadata": {},
   "source": [
    "# Execption Handling"
   ]
  },
  {
   "cell_type": "code",
   "execution_count": null,
   "metadata": {},
   "outputs": [],
   "source": [
    "try:\n",
    "    a=45\n",
    "    b=0\n",
    "    result=a/b\n",
    "except Exception as e: # base class\n",
    "    print(e)\n",
    "print('Welcome')\n"
   ]
  },
  {
   "cell_type": "code",
   "execution_count": null,
   "metadata": {},
   "outputs": [],
   "source": [
    "try: # try handle the error \n",
    "    a=45\n",
    "    b=0\n",
    "    result=a/b\n",
    "    print(result)\n",
    "except ArithmeticError as e: # base class\n",
    "    print(e)\n",
    "except TypeError as t: \n",
    "    b=int(b)\n",
    "    print(t)\n",
    "finally:   # it run always\n",
    "    print('It will run always')"
   ]
  },
  {
   "cell_type": "code",
   "execution_count": null,
   "metadata": {},
   "outputs": [],
   "source": [
    "try: # try handle the error \n",
    "    a=45\n",
    "    b=0\n",
    "    result=a/b\n",
    "    print(result)\n",
    "except ArithmeticError as e: # base class\n",
    "    print(e)\n",
    "except TypeError as t: \n",
    "    b=int(b)\n",
    "    print(t)\n",
    "else: # similar to finally but doesn't run when occur error\n",
    "    print('No Exception')"
   ]
  },
  {
   "cell_type": "markdown",
   "metadata": {},
   "source": [
    "# Custom Exception"
   ]
  },
  {
   "cell_type": "code",
   "execution_count": null,
   "metadata": {},
   "outputs": [],
   "source": [
    "#age= 14\n",
    "#if age<18:\n",
    "    #raise Exception(\"Eligibility Error\")\n"
   ]
  },
  {
   "cell_type": "code",
   "execution_count": null,
   "metadata": {},
   "outputs": [],
   "source": [
    "class Eligibility_Error(Exception):\n",
    "    \"\"\"Info about class - Doc string\"\"\"\n",
    "    def __init__(self, age:int, message:str):\n",
    "        \"\"\"__init__(self, age:int, message:str)\"\"\"\n",
    "        self.age=age\n",
    "        self.message=message\n",
    "        super().__init__(self,age,message)  "
   ]
  },
  {
   "cell_type": "code",
   "execution_count": null,
   "metadata": {},
   "outputs": [],
   "source": [
    "age= 14\n",
    "if age<18:\n",
    "    raise Eligibility_Error(age,\"Eligibility Error\")\n"
   ]
  },
  {
   "cell_type": "code",
   "execution_count": null,
   "metadata": {},
   "outputs": [],
   "source": [
    "help(Exception)"
   ]
  }
 ],
 "metadata": {
  "interpreter": {
   "hash": "2be5faf79681da6f2a61fdfdd5405d65d042280f7fba6178067603e3a2925119"
  },
  "kernelspec": {
   "display_name": "Python 3.10.1 64-bit",
   "language": "python",
   "name": "python3"
  },
  "language_info": {
   "codemirror_mode": {
    "name": "ipython",
    "version": 3
   },
   "file_extension": ".py",
   "mimetype": "text/x-python",
   "name": "python",
   "nbconvert_exporter": "python",
   "pygments_lexer": "ipython3",
   "version": "3.10.1"
  },
  "orig_nbformat": 4
 },
 "nbformat": 4,
 "nbformat_minor": 2
}
