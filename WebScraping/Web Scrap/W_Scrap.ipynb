{
 "cells": [
  {
   "cell_type": "code",
   "execution_count": 2,
   "metadata": {},
   "outputs": [],
   "source": [
    "from flask import Flask\n",
    "from flask_restful import Resource, Api"
   ]
  },
  {
   "cell_type": "code",
   "execution_count": null,
   "metadata": {},
   "outputs": [],
   "source": [
    "import imp\n",
    "from flask import Flask\n",
    "from flask_restful import Resource, Api\n",
    "from scrap import WebScrap\n",
    "\n",
    "app=Flask(__name__) # Creating a app\n",
    "api=Api(app) # creating a Api\n",
    "\n",
    "class test(Resource): #creating a class\n",
    "    def get(self):\n",
    "        return WebScrap()\n",
    "\n",
    "api.add_resource(test,\"/\") # Adds a resource to the api || test the class name of your resource || one or more url routes to match for the resource, standard\n",
    "app.run(debug=True,port=8888)    # running the app || Runs the application on a local development server.                                                                                             #flask routing rules apply. Any url variables will be passed to the resource method as args. "
   ]
  }
 ],
 "metadata": {
  "interpreter": {
   "hash": "2be5faf79681da6f2a61fdfdd5405d65d042280f7fba6178067603e3a2925119"
  },
  "kernelspec": {
   "display_name": "Python 3.10.1 64-bit",
   "language": "python",
   "name": "python3"
  },
  "language_info": {
   "codemirror_mode": {
    "name": "ipython",
    "version": 3
   },
   "file_extension": ".py",
   "mimetype": "text/x-python",
   "name": "python",
   "nbconvert_exporter": "python",
   "pygments_lexer": "ipython3",
   "version": "3.10.1"
  },
  "orig_nbformat": 4
 },
 "nbformat": 4,
 "nbformat_minor": 2
}
