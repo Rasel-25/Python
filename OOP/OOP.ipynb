{
 "cells": [
  {
   "cell_type": "markdown",
   "metadata": {},
   "source": [
    "# CLASS"
   ]
  },
  {
   "cell_type": "code",
   "execution_count": 9,
   "metadata": {},
   "outputs": [],
   "source": [
    "class product:\n",
    "    # features or attribute -> shich provide the product details\n",
    "    platform='Amazon' # it is a glabal features and all object cat assign it by defolt\n",
    "    # constructor -> which create when object declared \n",
    "    def __init__(self, p_id:int , title: str) ->None: # it does not return anything\n",
    "        print(\"calling constructor \")\n",
    "        #instance based features \n",
    "        self.p_id=p_id\n",
    "        self.title=title\n",
    "    #behaviors or methods\n",
    "    def get_info(self):\n",
    "        return(self.p_id,self.title)\n",
    "    #destructor\n",
    "    def __del__(self):\n",
    "        print('destroying object...')\n",
    "        del self\n",
    "        return True\n",
    "\n",
    "\n",
    "    "
   ]
  },
  {
   "cell_type": "markdown",
   "metadata": {},
   "source": [
    "# Object"
   ]
  },
  {
   "cell_type": "code",
   "execution_count": 10,
   "metadata": {},
   "outputs": [
    {
     "name": "stdout",
     "output_type": "stream",
     "text": [
      "calling constructor \n"
     ]
    }
   ],
   "source": [
    "#here product class pass to self parametter\n",
    "item=product(1678,'iphone') #calling product class\n",
    "# accessing attribute\n",
    "\n",
    " "
   ]
  },
  {
   "cell_type": "code",
   "execution_count": null,
   "metadata": {},
   "outputs": [],
   "source": [
    "isinstance(item,product)"
   ]
  },
  {
   "cell_type": "code",
   "execution_count": 11,
   "metadata": {},
   "outputs": [
    {
     "data": {
      "text/plain": [
       "'iphone'"
      ]
     },
     "execution_count": 11,
     "metadata": {},
     "output_type": "execute_result"
    }
   ],
   "source": [
    "item.p_id   # here item replace self\n",
    "item.title\n"
   ]
  },
  {
   "cell_type": "code",
   "execution_count": 12,
   "metadata": {},
   "outputs": [
    {
     "data": {
      "text/plain": [
       "'Amazon'"
      ]
     },
     "execution_count": 12,
     "metadata": {},
     "output_type": "execute_result"
    }
   ],
   "source": [
    "item.platform"
   ]
  },
  {
   "cell_type": "code",
   "execution_count": 15,
   "metadata": {},
   "outputs": [
    {
     "data": {
      "text/plain": [
       "(1678, 'Iphone x13 pr')"
      ]
     },
     "execution_count": 15,
     "metadata": {},
     "output_type": "execute_result"
    }
   ],
   "source": [
    "#calling method\n",
    "item.get_info()"
   ]
  },
  {
   "cell_type": "code",
   "execution_count": 14,
   "metadata": {},
   "outputs": [],
   "source": [
    "#updating features \n",
    "item.title='Iphone x13 pr'\n"
   ]
  },
  {
   "cell_type": "markdown",
   "metadata": {},
   "source": [
    "# Some spacial methods"
   ]
  },
  {
   "cell_type": "code",
   "execution_count": null,
   "metadata": {},
   "outputs": [],
   "source": [
    "#destructor\n",
    "del item"
   ]
  },
  {
   "cell_type": "code",
   "execution_count": 18,
   "metadata": {},
   "outputs": [],
   "source": [
    "# any spacial function start with double uner score \n",
    "class product:\n",
    "    \n",
    "    platform='Amazon' \n",
    "   \n",
    "    def __init__(self, p_id:int , title: str, price: float) ->None: \n",
    "        print(\"calling constructor \")\n",
    "       #instance based features\n",
    "        self.p_id=p_id; self.title=title; self.price=price\n",
    "   \n",
    "    def get_info(self):\n",
    "        return(self.p_id,self.title)\n",
    "    def __repr__(self): #representation method\n",
    "        return f'product( p_id={self.p_id}, title={self.title}, price={self.price})'\n",
    "    def __str__(self): # It is similar with __repr__() but call when print the pbject\n",
    "        return f'product( p_id={self.p_id}, title={self.title}, price={self.price})'\n",
    "    #operator overloading\n",
    "    def __gt__(self, other): # gether than method\n",
    "        return self.price > other.price #self.price->item3 and other.price->item2\n",
    "\n",
    "    def __lt__(self, other): # less than method\n",
    "        return self.price < other.price  #\n",
    "\n"
   ]
  },
  {
   "cell_type": "code",
   "execution_count": 19,
   "metadata": {},
   "outputs": [
    {
     "name": "stdout",
     "output_type": "stream",
     "text": [
      "calling constructor \n"
     ]
    },
    {
     "data": {
      "text/plain": [
       "product( p_id=5647, title=Nokia, price=25000.0)"
      ]
     },
     "execution_count": 19,
     "metadata": {},
     "output_type": "execute_result"
    }
   ],
   "source": [
    "item2=product(5647, 'Nokia', 25000.00)\n",
    "item2 # calling __repr_()"
   ]
  },
  {
   "cell_type": "code",
   "execution_count": 20,
   "metadata": {},
   "outputs": [
    {
     "name": "stdout",
     "output_type": "stream",
     "text": [
      "product( p_id=5647, title=Nokia, price=25000.0)\n"
     ]
    }
   ],
   "source": [
    "print(item2) # calling __str__()"
   ]
  },
  {
   "cell_type": "code",
   "execution_count": 21,
   "metadata": {},
   "outputs": [
    {
     "name": "stdout",
     "output_type": "stream",
     "text": [
      "calling constructor \n"
     ]
    },
    {
     "data": {
      "text/plain": [
       "product( p_id=5647, title=OPP, price=29000.0)"
      ]
     },
     "execution_count": 21,
     "metadata": {},
     "output_type": "execute_result"
    }
   ],
   "source": [
    "item3=product(5647, 'OPP', 29000.00)\n",
    "item3"
   ]
  },
  {
   "cell_type": "code",
   "execution_count": null,
   "metadata": {},
   "outputs": [],
   "source": [
    "# comparison \n",
    "item3==item2\n",
    "item3>item2  #calling __gt__() \n",
    "item2<item3 #calling __lt__() but it calling by defolt according to __gt__()"
   ]
  },
  {
   "cell_type": "markdown",
   "metadata": {},
   "source": [
    "# Getter and setter deleter"
   ]
  },
  {
   "cell_type": "code",
   "execution_count": 30,
   "metadata": {},
   "outputs": [],
   "source": [
    "class product:\n",
    "    \n",
    "    platform='Amazon' \n",
    "   \n",
    "    def __init__(self, p_id:int , title: str, secret_code) ->None: \n",
    "        print(\"calling constructor \")\n",
    "       # use double underscore to private any variable that cannot access \n",
    "        self.p_id=p_id; self.title=title; self.__secret_code=secret_code\n",
    "        \n",
    "    def getSecretCode(self): # calling __secret_code by this methods\n",
    "        return self.__secret_code\n",
    "\n",
    "    #getter -> which use to access private value\n",
    "    @property\n",
    "    def secret_code(self): # calling __secret_code by this methods\n",
    "        return self.__secret_code\n",
    "\n",
    "    \n",
    "    #Setter  -> which use to update private value\n",
    "    @secret_code.setter\n",
    "    def secret_code(self, new):\n",
    "        print('Updating')\n",
    "        self.__secret_code=new\n",
    "        return self.__secret_code\n",
    "    # deleter -> which use to delete private value\n",
    "    @secret_code.deleter\n",
    "    def secret_code(self):\n",
    "        print(\"delete secret_code\")\n",
    "        del self.__secret_code\n",
    "\n"
   ]
  },
  {
   "cell_type": "code",
   "execution_count": 23,
   "metadata": {},
   "outputs": [
    {
     "name": "stdout",
     "output_type": "stream",
     "text": [
      "calling constructor \n"
     ]
    },
    {
     "data": {
      "text/plain": [
       "'dhus87'"
      ]
     },
     "execution_count": 23,
     "metadata": {},
     "output_type": "execute_result"
    }
   ],
   "source": [
    "item4=product(5647, 'OPP', 'dhus87')\n",
    "item4.getSecretCode()"
   ]
  },
  {
   "cell_type": "code",
   "execution_count": 24,
   "metadata": {},
   "outputs": [
    {
     "name": "stdout",
     "output_type": "stream",
     "text": [
      "calling constructor \n"
     ]
    },
    {
     "data": {
      "text/plain": [
       "'rasel87'"
      ]
     },
     "execution_count": 24,
     "metadata": {},
     "output_type": "execute_result"
    }
   ],
   "source": [
    "item4=product(5647, 'OPP', 'rasel87') #calling getter  to accesee porivate value and  cannot change it \n",
    "item4.secret_code"
   ]
  },
  {
   "cell_type": "code",
   "execution_count": 32,
   "metadata": {},
   "outputs": [
    {
     "name": "stdout",
     "output_type": "stream",
     "text": [
      "Updating\n"
     ]
    },
    {
     "data": {
      "text/plain": [
       "'RASEL25'"
      ]
     },
     "execution_count": 32,
     "metadata": {},
     "output_type": "execute_result"
    }
   ],
   "source": [
    "item4.secret_code ='RASEL25' #calling @secret_code.setter to update\n",
    "item4.secret_code"
   ]
  },
  {
   "cell_type": "code",
   "execution_count": null,
   "metadata": {},
   "outputs": [],
   "source": [
    "del item4.secret_code # #calling @secret_code.deleter to delete"
   ]
  },
  {
   "cell_type": "code",
   "execution_count": 5,
   "metadata": {},
   "outputs": [
    {
     "data": {
      "text/plain": [
       "'RASEL25'"
      ]
     },
     "execution_count": 5,
     "metadata": {},
     "output_type": "execute_result"
    }
   ],
   "source": [
    "item4.secret_code"
   ]
  },
  {
   "cell_type": "markdown",
   "metadata": {},
   "source": [
    "# Classmethod and Staticmethod"
   ]
  },
  {
   "cell_type": "code",
   "execution_count": 6,
   "metadata": {},
   "outputs": [],
   "source": [
    "class product:\n",
    "    \n",
    "    platform='Amazon' \n",
    "   \n",
    "    def __init__(self, p_id:int , title: str, secret_code) ->None:\n",
    "        self.p_id=p_id\n",
    "        self.title=title\n",
    "        self.__secret_code= secret_code\n",
    "\n",
    "#@classmethod   #here classmethod as decorator     \n",
    "#def cls(cls, data: str):\n",
    "    #data=data.split('-')\n",
    "\n",
    "    def __repr__(self): # use/provide self for information of object\n",
    "        return f\"Product(p_id={self.p_id}, title={self.title}, code={self.__secret_code})\"\n",
    "\n",
    "    @classmethod # in classmethod cls use as parametter but self cannot use \n",
    "    def objectFromString(cls, data: str): # Use classmethod when need only information of class\n",
    "        data = data.split('-')\n",
    "        return cls(int(data[0]), data[1], data[2])\n",
    "\n",
    "    @staticmethod #use Staticmethod whene taht function doesn't need any information of class or object\n",
    "    def add(a,b):\n",
    "        return a+b\n",
    "\n",
    "        "
   ]
  },
  {
   "cell_type": "code",
   "execution_count": null,
   "metadata": {},
   "outputs": [],
   "source": [
    "#data = '102526-OPP x3-RL25' # calling Cls method\n",
    "#data.split('-')"
   ]
  },
  {
   "cell_type": "code",
   "execution_count": 7,
   "metadata": {},
   "outputs": [
    {
     "data": {
      "text/plain": [
       "Product(p_id=235234, title=Nokia X3, code=7847f744edfe)"
      ]
     },
     "execution_count": 7,
     "metadata": {},
     "output_type": "execute_result"
    }
   ],
   "source": [
    "# here product class pass to the objectFormSting to cls parametter and value to data parametter \n",
    "item5=product.objectFromString('235234-Nokia X3-7847f744edfe') # calling product class \n",
    "item5"
   ]
  },
  {
   "cell_type": "code",
   "execution_count": null,
   "metadata": {},
   "outputs": [],
   "source": [
    "item5.title\n",
    "item5.p_id"
   ]
  },
  {
   "cell_type": "code",
   "execution_count": null,
   "metadata": {},
   "outputs": [],
   "source": [
    "product.add(2,4) # calling @staticmethod"
   ]
  },
  {
   "cell_type": "markdown",
   "metadata": {},
   "source": [
    "# Inheritance"
   ]
  },
  {
   "cell_type": "code",
   "execution_count": null,
   "metadata": {},
   "outputs": [],
   "source": [
    "# base or super class\n",
    "class product:\n",
    "    \n",
    "    platform='Amazon' \n",
    "   \n",
    "    def __init__(self, p_id:int , title: str) ->None:\n",
    "        self.p_id=p_id\n",
    "        self.title=title\n",
    "\n",
    "    def __get_code(self): #private method , child cannot inherite this\n",
    "        return '764688'\n",
    "\n",
    "\n",
    "    def __repr__(self): # use/provide self for information of object\n",
    "        return f\"Product(p_id={self.p_id}, title={self.title})\"\n"
   ]
  },
  {
   "cell_type": "markdown",
   "metadata": {},
   "source": [
    "# single inheritance"
   ]
  },
  {
   "cell_type": "code",
   "execution_count": null,
   "metadata": {},
   "outputs": [],
   "source": [
    "# Derived or subclass \n",
    "class cloth(product):\n",
    "    def __init__(self, p_id:int,title:str, category:str):\n",
    "        self.category=category\n",
    "        super().__init__(p_id, title) # calling Construct of super class\n",
    "    def __repr__(self): # use/provide self for information of object\n",
    "        return f\"Cloth(p_id={self.p_id}, title={self.title}, Category: {self.category})\"\n",
    "\n",
    "    "
   ]
  },
  {
   "cell_type": "code",
   "execution_count": null,
   "metadata": {},
   "outputs": [],
   "source": [
    "item6=cloth(354,'T-shirt', 'ciothing')\n",
    "item6.get_code()"
   ]
  },
  {
   "cell_type": "markdown",
   "metadata": {},
   "source": [
    "# Multilevel Inheritance"
   ]
  },
  {
   "cell_type": "code",
   "execution_count": null,
   "metadata": {},
   "outputs": [],
   "source": [
    "#topWear <- Cloth <- product\n",
    "class Topwear(cloth):\n",
    "    def __init__(self, p_id:int,title:str, category:str,sub_cat: str):\n",
    "        self.sub_cat=sub_cat\n",
    "        super().__init__(p_id,title,category)\n",
    "    def __repr__(self): # use/provide self for information of object\n",
    "        return f\"Topwear(p_id={self.p_id}, title={self.title}, Category: {self.category}, Sub_cat: {self.sub_cat})\"\n",
    "\n",
    "    \n"
   ]
  },
  {
   "cell_type": "code",
   "execution_count": null,
   "metadata": {},
   "outputs": [],
   "source": [
    "Topwear(7884,'T-shirt','Foreign Quality','soft')"
   ]
  },
  {
   "cell_type": "code",
   "execution_count": null,
   "metadata": {},
   "outputs": [],
   "source": [
    "class seller:\n",
    "    def __init__(self, seller_id:str,name:int):\n",
    "        self.seller_id=seller_id\n",
    "        self.name=name\n",
    "    def __repr__(self):\n",
    "        return f'Seller(Seller_id: {self.seller_id} Name: {self.name})'"
   ]
  },
  {
   "cell_type": "code",
   "execution_count": null,
   "metadata": {},
   "outputs": [],
   "source": [
    "item7=seller(5467,'Raja')\n",
    "item7"
   ]
  },
  {
   "cell_type": "code",
   "execution_count": null,
   "metadata": {},
   "outputs": [],
   "source": [
    "item7.seller_id"
   ]
  },
  {
   "cell_type": "markdown",
   "metadata": {},
   "source": [
    "# Task\n",
    "Create a class for facebook account with features and method\n"
   ]
  },
  {
   "cell_type": "markdown",
   "metadata": {},
   "source": [
    "# Multiple Inheritance"
   ]
  },
  {
   "cell_type": "code",
   "execution_count": null,
   "metadata": {},
   "outputs": [],
   "source": [
    "class cloth(product,seller):\n",
    "    def __init__(self, p_id:int,title: str,category:str, seller_id:int,name:str ):\n",
    "        self.category=category\n",
    "        product.__init__(self,p_id,title)\n",
    "        seller.__init__(self,seller_id,name)\n",
    "    #def __repr__(self):\n",
    "        #return f'Cloth(Category: {self.category})'\n",
    "    #Overriding __repe__() of super class\n",
    "    def __repr__(self):\n",
    "        return product.__repr__(self)+ ' | '+ f'Cloth(Category: {self.category})'+' | '+seller.__repr__(self)"
   ]
  },
  {
   "cell_type": "code",
   "execution_count": null,
   "metadata": {},
   "outputs": [],
   "source": [
    "item8=cloth(74494,'T-shirt', 'Foreign cllection',6579,'Alex')\n",
    "item8\n"
   ]
  },
  {
   "cell_type": "code",
   "execution_count": null,
   "metadata": {},
   "outputs": [],
   "source": [
    "cloth.mro() # it is call method resulation which show hierarchy of priority"
   ]
  },
  {
   "cell_type": "markdown",
   "metadata": {},
   "source": [
    "# polymorphism\n",
    "If all classes have a functin with same name then overriding previous functions\n",
    "and show only last one like function of cloth which called runtime polymorphism \n",
    "\n",
    "Runtime polymorphism -> Method overriding\n",
    "NOTE: Overloding is absence in python because it is a dinamic language "
   ]
  },
  {
   "cell_type": "markdown",
   "metadata": {},
   "source": [
    "# DataClass"
   ]
  },
  {
   "cell_type": "markdown",
   "metadata": {},
   "source": [
    "module refers file and folder refers package, \n",
    "decorator is also a function\n",
    "@dataclass  refers decorator function"
   ]
  },
  {
   "cell_type": "code",
   "execution_count": 8,
   "metadata": {},
   "outputs": [],
   "source": [
    "\n",
    "from dataclasses import dataclass #hre import dataclass from dataclasses\n",
    "@dataclass  #decorator decorating the BottomWear class __init__, __repr__ on need\n",
    "class BottomWear:\n",
    "    p_id:int\n",
    "    title:str\n",
    "    def getTitle(self):\n",
    "        return self.title"
   ]
  },
  {
   "cell_type": "code",
   "execution_count": 9,
   "metadata": {},
   "outputs": [
    {
     "data": {
      "text/plain": [
       "78885"
      ]
     },
     "execution_count": 9,
     "metadata": {},
     "output_type": "execute_result"
    }
   ],
   "source": [
    "b=BottomWear(78885,'shirt')\n",
    "b.p_id"
   ]
  },
  {
   "cell_type": "code",
   "execution_count": 10,
   "metadata": {},
   "outputs": [
    {
     "data": {
      "text/plain": [
       "'shirt'"
      ]
     },
     "execution_count": 10,
     "metadata": {},
     "output_type": "execute_result"
    }
   ],
   "source": [
    "b.getTitle()"
   ]
  }
 ],
 "metadata": {
  "interpreter": {
   "hash": "2be5faf79681da6f2a61fdfdd5405d65d042280f7fba6178067603e3a2925119"
  },
  "kernelspec": {
   "display_name": "Python 3.10.1 64-bit",
   "language": "python",
   "name": "python3"
  },
  "language_info": {
   "codemirror_mode": {
    "name": "ipython",
    "version": 3
   },
   "file_extension": ".py",
   "mimetype": "text/x-python",
   "name": "python",
   "nbconvert_exporter": "python",
   "pygments_lexer": "ipython3",
   "version": "3.10.1"
  },
  "orig_nbformat": 4
 },
 "nbformat": 4,
 "nbformat_minor": 2
}
