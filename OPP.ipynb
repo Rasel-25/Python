{
 "cells": [
  {
   "cell_type": "code",
   "execution_count": 1,
   "metadata": {},
   "outputs": [],
   "source": [
    "def Dynamic(**kwargs):   # ** key and value \n",
    "    for key, value in kwargs.items():\n",
    "        print(key, \":\", value)"
   ]
  },
  {
   "cell_type": "code",
   "execution_count": 2,
   "metadata": {},
   "outputs": [
    {
     "name": "stdout",
     "output_type": "stream",
     "text": [
      "name : Rasel\n",
      "Age : 24\n",
      "Email : rasel@gmail.com\n"
     ]
    }
   ],
   "source": [
    "Dynamic(name='Rasel', Age=24, Email='rasel@gmail.com')"
   ]
  },
  {
   "cell_type": "markdown",
   "metadata": {},
   "source": [
    "CLASS"
   ]
  },
  {
   "cell_type": "code",
   "execution_count": 12,
   "metadata": {},
   "outputs": [],
   "source": [
    "class product:\n",
    "    # features or attribute -> shich provide the product details\n",
    "    platform='Amazon'\n",
    "    # constructor -> which create when object declared \n",
    "    def __init__(self, p_id:int , title: str) ->None: # it does not return anything\n",
    "        print(\"calling constructor \")\n",
    "        #instance based features \n",
    "        self.p_id=p_id\n",
    "        self.title=title\n",
    "    #behaviors or methods\n",
    "    def get_info(self):\n",
    "        return(self.p_id,self.title)\n",
    "\n",
    "    "
   ]
  },
  {
   "cell_type": "markdown",
   "metadata": {},
   "source": [
    "Object"
   ]
  },
  {
   "cell_type": "code",
   "execution_count": 13,
   "metadata": {},
   "outputs": [
    {
     "name": "stdout",
     "output_type": "stream",
     "text": [
      "calling constructor \n"
     ]
    },
    {
     "data": {
      "text/plain": [
       "'iphone'"
      ]
     },
     "execution_count": 13,
     "metadata": {},
     "output_type": "execute_result"
    }
   ],
   "source": [
    "item=product(1678,'iphone')\n",
    "# accessing attribute\n",
    "item.p_id   # here item replace self\n",
    "item.title\n",
    " "
   ]
  },
  {
   "cell_type": "code",
   "execution_count": 11,
   "metadata": {},
   "outputs": [
    {
     "data": {
      "text/plain": [
       "True"
      ]
     },
     "execution_count": 11,
     "metadata": {},
     "output_type": "execute_result"
    }
   ],
   "source": [
    "isinstance(item,product)"
   ]
  }
 ],
 "metadata": {
  "interpreter": {
   "hash": "2be5faf79681da6f2a61fdfdd5405d65d042280f7fba6178067603e3a2925119"
  },
  "kernelspec": {
   "display_name": "Python 3.10.1 64-bit",
   "language": "python",
   "name": "python3"
  },
  "language_info": {
   "codemirror_mode": {
    "name": "ipython",
    "version": 3
   },
   "file_extension": ".py",
   "mimetype": "text/x-python",
   "name": "python",
   "nbconvert_exporter": "python",
   "pygments_lexer": "ipython3",
   "version": "3.10.1"
  },
  "orig_nbformat": 4
 },
 "nbformat": 4,
 "nbformat_minor": 2
}
