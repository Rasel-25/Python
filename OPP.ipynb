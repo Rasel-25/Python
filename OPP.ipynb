{
 "cells": [
  {
   "cell_type": "markdown",
   "metadata": {},
   "source": [
    "CLASS"
   ]
  },
  {
   "cell_type": "code",
   "execution_count": 59,
   "metadata": {},
   "outputs": [],
   "source": [
    "class product:\n",
    "    # features or attribute -> shich provide the product details\n",
    "    platform='Amazon' # it is a glabal features and all object cat assign it by defolt\n",
    "    # constructor -> which create when object declared \n",
    "    def __init__(self, p_id:int , title: str) ->None: # it does not return anything\n",
    "        print(\"calling constructor \")\n",
    "        #instance based features \n",
    "        self.p_id=p_id\n",
    "        self.title=title\n",
    "    #behaviors or methods\n",
    "    def get_info(self):\n",
    "        return(self.p_id,self.title)\n",
    "    #destructor\n",
    "    def __del__(self):\n",
    "        print('destroying object...')\n",
    "        del self\n",
    "        return True\n",
    "\n",
    "\n",
    "    "
   ]
  },
  {
   "cell_type": "markdown",
   "metadata": {},
   "source": [
    "Object"
   ]
  },
  {
   "cell_type": "code",
   "execution_count": 61,
   "metadata": {},
   "outputs": [
    {
     "name": "stdout",
     "output_type": "stream",
     "text": [
      "calling constructor \n",
      "destroing object...\n"
     ]
    }
   ],
   "source": [
    "item=product(1678,'iphone')\n",
    "# accessing attribute\n",
    "\n",
    " "
   ]
  },
  {
   "cell_type": "code",
   "execution_count": 62,
   "metadata": {},
   "outputs": [
    {
     "data": {
      "text/plain": [
       "True"
      ]
     },
     "execution_count": 62,
     "metadata": {},
     "output_type": "execute_result"
    }
   ],
   "source": [
    "isinstance(item,product)"
   ]
  },
  {
   "cell_type": "code",
   "execution_count": 63,
   "metadata": {},
   "outputs": [
    {
     "data": {
      "text/plain": [
       "'iphone'"
      ]
     },
     "execution_count": 63,
     "metadata": {},
     "output_type": "execute_result"
    }
   ],
   "source": [
    "item.p_id   # here item replace self\n",
    "item.title\n"
   ]
  },
  {
   "cell_type": "code",
   "execution_count": 64,
   "metadata": {},
   "outputs": [
    {
     "data": {
      "text/plain": [
       "'Amazon'"
      ]
     },
     "execution_count": 64,
     "metadata": {},
     "output_type": "execute_result"
    }
   ],
   "source": [
    "item.platform"
   ]
  },
  {
   "cell_type": "code",
   "execution_count": 65,
   "metadata": {},
   "outputs": [
    {
     "data": {
      "text/plain": [
       "(1678, 'iphone')"
      ]
     },
     "execution_count": 65,
     "metadata": {},
     "output_type": "execute_result"
    }
   ],
   "source": [
    "#calling method\n",
    "item.get_info()"
   ]
  },
  {
   "cell_type": "code",
   "execution_count": 66,
   "metadata": {},
   "outputs": [],
   "source": [
    "#updating features \n",
    "item.title='Iphone x13 pr'\n"
   ]
  },
  {
   "cell_type": "markdown",
   "metadata": {},
   "source": [
    "Some spacial methods"
   ]
  },
  {
   "cell_type": "code",
   "execution_count": 51,
   "metadata": {},
   "outputs": [
    {
     "name": "stdout",
     "output_type": "stream",
     "text": [
      "destroing object...\n"
     ]
    }
   ],
   "source": [
    "#destructor\n",
    "del item"
   ]
  },
  {
   "cell_type": "code",
   "execution_count": 42,
   "metadata": {},
   "outputs": [],
   "source": [
    "# any spacial function start with double uner score \n",
    "class product:\n",
    "    \n",
    "    platform='Amazon' \n",
    "   \n",
    "    def __init__(self, p_id:int , title: str, price: float) ->None: \n",
    "        print(\"calling constructor \")\n",
    "       \n",
    "        self.p_id=p_id; self.title=title; self.price=price\n",
    "   \n",
    "    def get_info(self):\n",
    "        return(self.p_id,self.title)\n",
    "    def __repr__(self): #representation method\n",
    "        return f'product( p_id={self.p_id}, title={self.title}, price={self.price})'\n",
    "    def __str__(self): # It is similar with __repr__() but call when print the pbject\n",
    "        return f'product( p_id={self.p_id}, title={self.title}, price={self.price})'\n",
    "    #operator overloading\n",
    "    def __gt__(self, other): # gether than method\n",
    "        return self.price > other.price #self.price->item3 and other.price->item2\n",
    "\n",
    "    def __lt__(self, other): # less than method\n",
    "        return self.price < other.price  #\n",
    "\n"
   ]
  },
  {
   "cell_type": "code",
   "execution_count": 43,
   "metadata": {},
   "outputs": [
    {
     "name": "stdout",
     "output_type": "stream",
     "text": [
      "calling constructor \n"
     ]
    },
    {
     "data": {
      "text/plain": [
       "product( p_id=5647, title=Nokia, price=25000.0)"
      ]
     },
     "execution_count": 43,
     "metadata": {},
     "output_type": "execute_result"
    }
   ],
   "source": [
    "item2=product(5647, 'Nokia', 25000.00)\n",
    "item2 # calling __repr_()"
   ]
  },
  {
   "cell_type": "code",
   "execution_count": 44,
   "metadata": {},
   "outputs": [
    {
     "name": "stdout",
     "output_type": "stream",
     "text": [
      "product( p_id=5647, title=Nokia, price=25000.0)\n"
     ]
    }
   ],
   "source": [
    "print(item2) # calling __str__()"
   ]
  },
  {
   "cell_type": "code",
   "execution_count": 39,
   "metadata": {},
   "outputs": [
    {
     "name": "stdout",
     "output_type": "stream",
     "text": [
      "calling constructor \n"
     ]
    },
    {
     "data": {
      "text/plain": [
       "product( p_id=5647, title=OPP, price=29000.0)"
      ]
     },
     "execution_count": 39,
     "metadata": {},
     "output_type": "execute_result"
    }
   ],
   "source": [
    "item3=product(5647, 'OPP', 29000.00)\n",
    "item3"
   ]
  },
  {
   "cell_type": "code",
   "execution_count": 45,
   "metadata": {},
   "outputs": [
    {
     "data": {
      "text/plain": [
       "True"
      ]
     },
     "execution_count": 45,
     "metadata": {},
     "output_type": "execute_result"
    }
   ],
   "source": [
    "# comparison \n",
    "item3==item2\n",
    "item3>item2  #calling __gt__() \n",
    "item2<item3 #calling __lt__() but it calling by defolt according to __gt__()"
   ]
  },
  {
   "cell_type": "markdown",
   "metadata": {},
   "source": [
    "Getter and setter"
   ]
  },
  {
   "cell_type": "code",
   "execution_count": 66,
   "metadata": {},
   "outputs": [],
   "source": [
    "class product:\n",
    "    \n",
    "    platform='Amazon' \n",
    "   \n",
    "    def __init__(self, p_id:int , title: str, secret_code) ->None: \n",
    "        print(\"calling constructor \")\n",
    "       # use double underscore to private any variable that cannot access \n",
    "        self.p_id=p_id; self.title=title; self.__secret_code=secret_code\n",
    "    def getSecretCode(self): # calling __secret_code by this methods\n",
    "        return self.__secret_code\n"
   ]
  },
  {
   "cell_type": "code",
   "execution_count": 68,
   "metadata": {},
   "outputs": [
    {
     "name": "stdout",
     "output_type": "stream",
     "text": [
      "calling constructor \n"
     ]
    },
    {
     "data": {
      "text/plain": [
       "'dhus87'"
      ]
     },
     "execution_count": 68,
     "metadata": {},
     "output_type": "execute_result"
    }
   ],
   "source": [
    "item4=product(5647, 'OPP', 'dhus87')\n",
    "item4.getSecretCode()"
   ]
  }
 ],
 "metadata": {
  "interpreter": {
   "hash": "2be5faf79681da6f2a61fdfdd5405d65d042280f7fba6178067603e3a2925119"
  },
  "kernelspec": {
   "display_name": "Python 3.10.1 64-bit",
   "language": "python",
   "name": "python3"
  },
  "language_info": {
   "codemirror_mode": {
    "name": "ipython",
    "version": 3
   },
   "file_extension": ".py",
   "mimetype": "text/x-python",
   "name": "python",
   "nbconvert_exporter": "python",
   "pygments_lexer": "ipython3",
   "version": "3.10.1"
  },
  "orig_nbformat": 4
 },
 "nbformat": 4,
 "nbformat_minor": 2
}
