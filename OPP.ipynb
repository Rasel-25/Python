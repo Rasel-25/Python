{
 "cells": [
  {
   "cell_type": "markdown",
   "metadata": {},
   "source": [
    "# CLASS"
   ]
  },
  {
   "cell_type": "code",
   "execution_count": null,
   "metadata": {},
   "outputs": [],
   "source": [
    "class product:\n",
    "    # features or attribute -> shich provide the product details\n",
    "    platform='Amazon' # it is a glabal features and all object cat assign it by defolt\n",
    "    # constructor -> which create when object declared \n",
    "    def __init__(self, p_id:int , title: str) ->None: # it does not return anything\n",
    "        print(\"calling constructor \")\n",
    "        #instance based features \n",
    "        self.p_id=p_id\n",
    "        self.title=title\n",
    "    #behaviors or methods\n",
    "    def get_info(self):\n",
    "        return(self.p_id,self.title)\n",
    "    #destructor\n",
    "    def __del__(self):\n",
    "        print('destroying object...')\n",
    "        del self\n",
    "        return True\n",
    "\n",
    "\n",
    "    "
   ]
  },
  {
   "cell_type": "markdown",
   "metadata": {},
   "source": [
    "# Object"
   ]
  },
  {
   "cell_type": "code",
   "execution_count": null,
   "metadata": {},
   "outputs": [],
   "source": [
    "#here product class pass to self parametter\n",
    "item=product(1678,'iphone') #calling product class\n",
    "# accessing attribute\n",
    "\n",
    " "
   ]
  },
  {
   "cell_type": "code",
   "execution_count": null,
   "metadata": {},
   "outputs": [],
   "source": [
    "isinstance(item,product)"
   ]
  },
  {
   "cell_type": "code",
   "execution_count": null,
   "metadata": {},
   "outputs": [],
   "source": [
    "item.p_id   # here item replace self\n",
    "item.title\n"
   ]
  },
  {
   "cell_type": "code",
   "execution_count": null,
   "metadata": {},
   "outputs": [],
   "source": [
    "item.platform"
   ]
  },
  {
   "cell_type": "code",
   "execution_count": null,
   "metadata": {},
   "outputs": [],
   "source": [
    "#calling method\n",
    "item.get_info()"
   ]
  },
  {
   "cell_type": "code",
   "execution_count": null,
   "metadata": {},
   "outputs": [],
   "source": [
    "#updating features \n",
    "item.title='Iphone x13 pr'\n"
   ]
  },
  {
   "cell_type": "markdown",
   "metadata": {},
   "source": [
    "# Some spacial methods"
   ]
  },
  {
   "cell_type": "code",
   "execution_count": null,
   "metadata": {},
   "outputs": [],
   "source": [
    "#destructor\n",
    "del item"
   ]
  },
  {
   "cell_type": "code",
   "execution_count": null,
   "metadata": {},
   "outputs": [],
   "source": [
    "# any spacial function start with double uner score \n",
    "class product:\n",
    "    \n",
    "    platform='Amazon' \n",
    "   \n",
    "    def __init__(self, p_id:int , title: str, price: float) ->None: \n",
    "        print(\"calling constructor \")\n",
    "       #instance based features\n",
    "        self.p_id=p_id; self.title=title; self.price=price\n",
    "   \n",
    "    def get_info(self):\n",
    "        return(self.p_id,self.title)\n",
    "    def __repr__(self): #representation method\n",
    "        return f'product( p_id={self.p_id}, title={self.title}, price={self.price})'\n",
    "    def __str__(self): # It is similar with __repr__() but call when print the pbject\n",
    "        return f'product( p_id={self.p_id}, title={self.title}, price={self.price})'\n",
    "    #operator overloading\n",
    "    def __gt__(self, other): # gether than method\n",
    "        return self.price > other.price #self.price->item3 and other.price->item2\n",
    "\n",
    "    def __lt__(self, other): # less than method\n",
    "        return self.price < other.price  #\n",
    "\n"
   ]
  },
  {
   "cell_type": "code",
   "execution_count": null,
   "metadata": {},
   "outputs": [],
   "source": [
    "item2=product(5647, 'Nokia', 25000.00)\n",
    "item2 # calling __repr_()"
   ]
  },
  {
   "cell_type": "code",
   "execution_count": null,
   "metadata": {},
   "outputs": [],
   "source": [
    "print(item2) # calling __str__()"
   ]
  },
  {
   "cell_type": "code",
   "execution_count": null,
   "metadata": {},
   "outputs": [],
   "source": [
    "item3=product(5647, 'OPP', 29000.00)\n",
    "item3"
   ]
  },
  {
   "cell_type": "code",
   "execution_count": null,
   "metadata": {},
   "outputs": [],
   "source": [
    "# comparison \n",
    "item3==item2\n",
    "item3>item2  #calling __gt__() \n",
    "item2<item3 #calling __lt__() but it calling by defolt according to __gt__()"
   ]
  },
  {
   "cell_type": "markdown",
   "metadata": {},
   "source": [
    "# Getter and setter deleter"
   ]
  },
  {
   "cell_type": "code",
   "execution_count": null,
   "metadata": {},
   "outputs": [],
   "source": [
    "class product:\n",
    "    \n",
    "    platform='Amazon' \n",
    "   \n",
    "    def __init__(self, p_id:int , title: str, secret_code) ->None: \n",
    "        print(\"calling constructor \")\n",
    "       # use double underscore to private any variable that cannot access \n",
    "        self.p_id=p_id; self.title=title; self.__secret_code=secret_code\n",
    "        \n",
    "    def getSecretCode(self): # calling __secret_code by this methods\n",
    "        return self.__secret_code\n",
    "\n",
    "    #getter -> which use to access private value\n",
    "    @property\n",
    "    def secret_code(self): # calling __secret_code by this methods\n",
    "        return self.__secret_code\n",
    "\n",
    "    \n",
    "    #Setter  -> which use to update private value\n",
    "    @secret_code.setter\n",
    "    def secret_code(self, new):\n",
    "        print('Updating')\n",
    "        self.__secret_code= new\n",
    "        return self.__secret_code\n",
    "    # deleter -> which use to delete private value\n",
    "    @secret_code.deleter\n",
    "    def secret_code(self):\n",
    "        print(\"delete secret_code\")\n",
    "        del self.__secret_code\n",
    "\n"
   ]
  },
  {
   "cell_type": "code",
   "execution_count": null,
   "metadata": {},
   "outputs": [],
   "source": [
    "item4=product(5647, 'OPP', 'dhus87')\n",
    "item4.getSecretCode()"
   ]
  },
  {
   "cell_type": "code",
   "execution_count": null,
   "metadata": {},
   "outputs": [],
   "source": [
    "item4=product(5647, 'OPP', 'rasel87') #calling getter  to accesee porivate value and  cannot change it \n",
    "item4.secret_code"
   ]
  },
  {
   "cell_type": "code",
   "execution_count": null,
   "metadata": {},
   "outputs": [],
   "source": [
    "item4.secret_code ='RASEL25' #calling @secret_code.setter to update\n",
    "item4.secret_code"
   ]
  },
  {
   "cell_type": "code",
   "execution_count": null,
   "metadata": {},
   "outputs": [],
   "source": [
    "del item4.secret_code # #calling @secret_code.deleter to delete"
   ]
  },
  {
   "cell_type": "code",
   "execution_count": null,
   "metadata": {},
   "outputs": [],
   "source": [
    "item4.secret_code"
   ]
  },
  {
   "cell_type": "markdown",
   "metadata": {},
   "source": [
    "# Classmethod and Staticmethod"
   ]
  },
  {
   "cell_type": "code",
   "execution_count": 1,
   "metadata": {},
   "outputs": [],
   "source": [
    "class product:\n",
    "    \n",
    "    platform='Amazon' \n",
    "   \n",
    "    def __init__(self, p_id:int , title: str, secret_code) ->None:\n",
    "        self.p_id=p_id\n",
    "        self.title=title\n",
    "        self.__secret_code= secret_code\n",
    "\n",
    "#@classmethod   #here classmethod as decorator     \n",
    "#def cls(cls, data: str):\n",
    "    #data=data.split('-')\n",
    "\n",
    "    def __repr__(self): # use/provide self for information of object\n",
    "        return f\"Product(p_id={self.p_id}, title={self.title}, code={self.__secret_code})\"\n",
    "\n",
    "    @classmethod # in classmethod cls use as parametter but self cannot use \n",
    "    def objectFromString(cls, data: str): # Use classmethod when need only information of class\n",
    "        data = data.split('-')\n",
    "        return cls(int(data[0]), data[1], data[2])\n",
    "\n",
    "    @staticmethod #use Staticmethod whene taht function doesn't need any information of class or object\n",
    "    def add(a,b):\n",
    "        return a+b\n",
    "\n",
    "        "
   ]
  },
  {
   "cell_type": "code",
   "execution_count": null,
   "metadata": {},
   "outputs": [],
   "source": [
    "#data = '102526-OPP x3-RL25' # calling Cls method\n",
    "#data.split('-')"
   ]
  },
  {
   "cell_type": "code",
   "execution_count": 4,
   "metadata": {},
   "outputs": [
    {
     "data": {
      "text/plain": [
       "Product(p_id=235234, title=Nokia X3, code=7847f744edfe)"
      ]
     },
     "execution_count": 4,
     "metadata": {},
     "output_type": "execute_result"
    }
   ],
   "source": [
    "# here product class pass to the objectFormSting to cls parametter and value to data parametter \n",
    "item5=product.objectFromString('235234-Nokia X3-7847f744edfe') # calling product class \n",
    "item5"
   ]
  },
  {
   "cell_type": "code",
   "execution_count": 5,
   "metadata": {},
   "outputs": [
    {
     "data": {
      "text/plain": [
       "235234"
      ]
     },
     "execution_count": 5,
     "metadata": {},
     "output_type": "execute_result"
    }
   ],
   "source": [
    "item5.title\n",
    "item5.p_id"
   ]
  },
  {
   "cell_type": "code",
   "execution_count": 2,
   "metadata": {},
   "outputs": [
    {
     "data": {
      "text/plain": [
       "6"
      ]
     },
     "execution_count": 2,
     "metadata": {},
     "output_type": "execute_result"
    }
   ],
   "source": [
    "product.add(2,4) # calling @staticmethod"
   ]
  },
  {
   "cell_type": "markdown",
   "metadata": {},
   "source": [
    "# Inheritance"
   ]
  },
  {
   "cell_type": "code",
   "execution_count": 3,
   "metadata": {},
   "outputs": [],
   "source": [
    "# base or super class\n",
    "class product:\n",
    "    \n",
    "    platform='Amazon' \n",
    "   \n",
    "    def __init__(self, p_id:int , title: str) ->None:\n",
    "        self.p_id=p_id\n",
    "        self.title=title\n",
    "        \n",
    "\n",
    "    def __repr__(self): # use/provide self for information of object\n",
    "        return f\"Product(p_id={self.p_id}, title={self.title})\"\n"
   ]
  },
  {
   "cell_type": "markdown",
   "metadata": {},
   "source": [
    "# single inheritance"
   ]
  },
  {
   "cell_type": "code",
   "execution_count": 26,
   "metadata": {},
   "outputs": [],
   "source": [
    "# Derived or subclass \n",
    "class cloth(product):\n",
    "    def __init__(self, p_id:int,title:str, category:str):\n",
    "        self.category=category\n",
    "        super().__init__(p_id, title) # calling Construct of super class\n",
    "    def __repr__(self): # use/provide self for information of object\n",
    "        return f\"Cloth(p_id={self.p_id}, title={self.title}, Category: {self.category})\"\n",
    "\n",
    "    "
   ]
  },
  {
   "cell_type": "code",
   "execution_count": 27,
   "metadata": {},
   "outputs": [
    {
     "data": {
      "text/plain": [
       "Cloth(p_id=354, title=T-shirt, Category: ciothing)"
      ]
     },
     "execution_count": 27,
     "metadata": {},
     "output_type": "execute_result"
    }
   ],
   "source": [
    "cloth(354,'T-shirt', 'ciothing')\n"
   ]
  },
  {
   "cell_type": "markdown",
   "metadata": {},
   "source": [
    "# Multilevel Inheritance"
   ]
  },
  {
   "cell_type": "code",
   "execution_count": 28,
   "metadata": {},
   "outputs": [],
   "source": [
    "#topWear <- Cloth <- product\n",
    "class Topwear(cloth):\n",
    "    def __init__(self, p_id:int,title:str, category:str,sub_cat: str):\n",
    "        self.sub_cat=sub_cat\n",
    "        super().__init__(p_id,title,category)\n",
    "    def __repr__(self): # use/provide self for information of object\n",
    "        return f\"Topwear(p_id={self.p_id}, title={self.title}, Category: {self.category}, Sub_cat: {self.sub_cat})\"\n",
    "\n",
    "    \n"
   ]
  },
  {
   "cell_type": "code",
   "execution_count": 29,
   "metadata": {},
   "outputs": [
    {
     "data": {
      "text/plain": [
       "Topwear(p_id=7884, title=T-shirt, Category: Foreign Quality, Sub_cat: soft)"
      ]
     },
     "execution_count": 29,
     "metadata": {},
     "output_type": "execute_result"
    }
   ],
   "source": [
    "Topwear(7884,'T-shirt','Foreign Quality','soft')"
   ]
  },
  {
   "cell_type": "code",
   "execution_count": 76,
   "metadata": {},
   "outputs": [],
   "source": [
    "class seller:\n",
    "    def __init__(self, seller_id:str,name:int):\n",
    "        self.seller_id=seller_id\n",
    "        self.name=name\n",
    "    def __repr__(self):\n",
    "        return f'Seller(Seller_id: {self.seller_id} Name: {self.name})'"
   ]
  },
  {
   "cell_type": "code",
   "execution_count": 35,
   "metadata": {},
   "outputs": [
    {
     "data": {
      "text/plain": [
       "Seller(Seller_id: 5467 Name: Raja)"
      ]
     },
     "execution_count": 35,
     "metadata": {},
     "output_type": "execute_result"
    }
   ],
   "source": [
    "item7=seller(5467,'Raja')\n",
    "item7"
   ]
  },
  {
   "cell_type": "code",
   "execution_count": 36,
   "metadata": {},
   "outputs": [
    {
     "data": {
      "text/plain": [
       "5467"
      ]
     },
     "execution_count": 36,
     "metadata": {},
     "output_type": "execute_result"
    }
   ],
   "source": [
    "item7.seller_id"
   ]
  },
  {
   "cell_type": "markdown",
   "metadata": {},
   "source": [
    "# Task\n",
    "Create a class for facebook account with features and method\n"
   ]
  },
  {
   "cell_type": "markdown",
   "metadata": {},
   "source": [
    "# Multiple Inheritance"
   ]
  },
  {
   "cell_type": "code",
   "execution_count": 78,
   "metadata": {},
   "outputs": [],
   "source": [
    "class cloth(product,seller):\n",
    "    def __init__(self, p_id:int,title: str,category:str, seller_id:int,name:str ):\n",
    "        self.category=category\n",
    "        product.__init__(self,p_id,title)\n",
    "        seller.__init__(self,seller_id,name)\n",
    "    #def __repr__(self):\n",
    "        #return f'Cloth(Category: {self.category})'\n",
    "    #Overriding __repe__() of super class\n",
    "    def __repr__(self):\n",
    "        return product.__repr__(self)+ ' | '+ f'Cloth(Category: {self.category})'+' | '+seller.__repr__(self)"
   ]
  },
  {
   "cell_type": "code",
   "execution_count": 79,
   "metadata": {},
   "outputs": [
    {
     "data": {
      "text/plain": [
       "Product(p_id=74494, title=T-shirt) | Cloth(Category: Foreign cllection) | Seller(Seller_id: 6579 Name: Alex)"
      ]
     },
     "execution_count": 79,
     "metadata": {},
     "output_type": "execute_result"
    }
   ],
   "source": [
    "item8=cloth(74494,'T-shirt', 'Foreign cllection',6579,'Alex')\n",
    "item8\n"
   ]
  },
  {
   "cell_type": "code",
   "execution_count": 80,
   "metadata": {},
   "outputs": [
    {
     "data": {
      "text/plain": [
       "[__main__.cloth, __main__.product, __main__.seller, object]"
      ]
     },
     "execution_count": 80,
     "metadata": {},
     "output_type": "execute_result"
    }
   ],
   "source": [
    "cloth.mro() # it is call method resulation which show hierarchy of priority"
   ]
  },
  {
   "cell_type": "markdown",
   "metadata": {},
   "source": [
    "# polymorphism\n",
    "If all classes have a functin with same name then overriding previous functions\n",
    "and show only last one like function of cloth which called runtime polymorphism \n",
    "\n",
    "Runtime polymorphism -> Method overriding"
   ]
  },
  {
   "cell_type": "code",
   "execution_count": null,
   "metadata": {},
   "outputs": [],
   "source": [
    "\n"
   ]
  },
  {
   "cell_type": "code",
   "execution_count": null,
   "metadata": {},
   "outputs": [],
   "source": []
  }
 ],
 "metadata": {
  "interpreter": {
   "hash": "2be5faf79681da6f2a61fdfdd5405d65d042280f7fba6178067603e3a2925119"
  },
  "kernelspec": {
   "display_name": "Python 3.10.1 64-bit",
   "language": "python",
   "name": "python3"
  },
  "language_info": {
   "codemirror_mode": {
    "name": "ipython",
    "version": 3
   },
   "file_extension": ".py",
   "mimetype": "text/x-python",
   "name": "python",
   "nbconvert_exporter": "python",
   "pygments_lexer": "ipython3",
   "version": "3.10.1"
  },
  "orig_nbformat": 4
 },
 "nbformat": 4,
 "nbformat_minor": 2
}
