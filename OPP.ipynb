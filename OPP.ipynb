{
 "cells": [
  {
   "cell_type": "markdown",
   "metadata": {},
   "source": [
    "# CLASS"
   ]
  },
  {
   "cell_type": "code",
   "execution_count": null,
   "metadata": {},
   "outputs": [],
   "source": [
    "class product:\n",
    "    # features or attribute -> shich provide the product details\n",
    "    platform='Amazon' # it is a glabal features and all object cat assign it by defolt\n",
    "    # constructor -> which create when object declared \n",
    "    def __init__(self, p_id:int , title: str) ->None: # it does not return anything\n",
    "        print(\"calling constructor \")\n",
    "        #instance based features \n",
    "        self.p_id=p_id\n",
    "        self.title=title\n",
    "    #behaviors or methods\n",
    "    def get_info(self):\n",
    "        return(self.p_id,self.title)\n",
    "    #destructor\n",
    "    def __del__(self):\n",
    "        print('destroying object...')\n",
    "        del self\n",
    "        return True\n",
    "\n",
    "\n",
    "    "
   ]
  },
  {
   "cell_type": "markdown",
   "metadata": {},
   "source": [
    "# Object"
   ]
  },
  {
   "cell_type": "code",
   "execution_count": null,
   "metadata": {},
   "outputs": [],
   "source": [
    "item=product(1678,'iphone')\n",
    "# accessing attribute\n",
    "\n",
    " "
   ]
  },
  {
   "cell_type": "code",
   "execution_count": null,
   "metadata": {},
   "outputs": [],
   "source": [
    "isinstance(item,product)"
   ]
  },
  {
   "cell_type": "code",
   "execution_count": null,
   "metadata": {},
   "outputs": [],
   "source": [
    "item.p_id   # here item replace self\n",
    "item.title\n"
   ]
  },
  {
   "cell_type": "code",
   "execution_count": null,
   "metadata": {},
   "outputs": [],
   "source": [
    "item.platform"
   ]
  },
  {
   "cell_type": "code",
   "execution_count": null,
   "metadata": {},
   "outputs": [],
   "source": [
    "#calling method\n",
    "item.get_info()"
   ]
  },
  {
   "cell_type": "code",
   "execution_count": null,
   "metadata": {},
   "outputs": [],
   "source": [
    "#updating features \n",
    "item.title='Iphone x13 pr'\n"
   ]
  },
  {
   "cell_type": "markdown",
   "metadata": {},
   "source": [
    "# Some spacial methods"
   ]
  },
  {
   "cell_type": "code",
   "execution_count": null,
   "metadata": {},
   "outputs": [],
   "source": [
    "#destructor\n",
    "del item"
   ]
  },
  {
   "cell_type": "code",
   "execution_count": null,
   "metadata": {},
   "outputs": [],
   "source": [
    "# any spacial function start with double uner score \n",
    "class product:\n",
    "    \n",
    "    platform='Amazon' \n",
    "   \n",
    "    def __init__(self, p_id:int , title: str, price: float) ->None: \n",
    "        print(\"calling constructor \")\n",
    "       #instance based features\n",
    "        self.p_id=p_id; self.title=title; self.price=price\n",
    "   \n",
    "    def get_info(self):\n",
    "        return(self.p_id,self.title)\n",
    "    def __repr__(self): #representation method\n",
    "        return f'product( p_id={self.p_id}, title={self.title}, price={self.price})'\n",
    "    def __str__(self): # It is similar with __repr__() but call when print the pbject\n",
    "        return f'product( p_id={self.p_id}, title={self.title}, price={self.price})'\n",
    "    #operator overloading\n",
    "    def __gt__(self, other): # gether than method\n",
    "        return self.price > other.price #self.price->item3 and other.price->item2\n",
    "\n",
    "    def __lt__(self, other): # less than method\n",
    "        return self.price < other.price  #\n",
    "\n"
   ]
  },
  {
   "cell_type": "code",
   "execution_count": null,
   "metadata": {},
   "outputs": [],
   "source": [
    "item2=product(5647, 'Nokia', 25000.00)\n",
    "item2 # calling __repr_()"
   ]
  },
  {
   "cell_type": "code",
   "execution_count": null,
   "metadata": {},
   "outputs": [],
   "source": [
    "print(item2) # calling __str__()"
   ]
  },
  {
   "cell_type": "code",
   "execution_count": null,
   "metadata": {},
   "outputs": [],
   "source": [
    "item3=product(5647, 'OPP', 29000.00)\n",
    "item3"
   ]
  },
  {
   "cell_type": "code",
   "execution_count": null,
   "metadata": {},
   "outputs": [],
   "source": [
    "# comparison \n",
    "item3==item2\n",
    "item3>item2  #calling __gt__() \n",
    "item2<item3 #calling __lt__() but it calling by defolt according to __gt__()"
   ]
  },
  {
   "cell_type": "markdown",
   "metadata": {},
   "source": [
    "# Getter and setter deleter"
   ]
  },
  {
   "cell_type": "code",
   "execution_count": null,
   "metadata": {},
   "outputs": [],
   "source": [
    "class product:\n",
    "    \n",
    "    platform='Amazon' \n",
    "   \n",
    "    def __init__(self, p_id:int , title: str, secret_code) ->None: \n",
    "        print(\"calling constructor \")\n",
    "       # use double underscore to private any variable that cannot access \n",
    "        self.p_id=p_id; self.title=title; self.__secret_code=secret_code\n",
    "        \n",
    "    def getSecretCode(self): # calling __secret_code by this methods\n",
    "        return self.__secret_code\n",
    "\n",
    "    #getter -> which use to access private value\n",
    "    @property\n",
    "    def secret_code(self): # calling __secret_code by this methods\n",
    "        return self.__secret_code\n",
    "\n",
    "    \n",
    "    #Setter  -> which use to update private value\n",
    "    @secret_code.setter\n",
    "    def secret_code(self, new):\n",
    "        print('Updating')\n",
    "        self.__secret_code= new\n",
    "        return self.__secret_code\n",
    "    # deleter -> which use to delete private value\n",
    "    @secret_code.deleter\n",
    "    def secret_code(self):\n",
    "        print(\"delete secret_code\")\n",
    "        del self.__secret_code\n",
    "\n"
   ]
  },
  {
   "cell_type": "code",
   "execution_count": null,
   "metadata": {},
   "outputs": [],
   "source": [
    "item4=product(5647, 'OPP', 'dhus87')\n",
    "item4.getSecretCode()"
   ]
  },
  {
   "cell_type": "code",
   "execution_count": null,
   "metadata": {},
   "outputs": [],
   "source": [
    "item4=product(5647, 'OPP', 'rasel87') #calling getter  to accesee porivate value and  cannot change it \n",
    "item4.secret_code"
   ]
  },
  {
   "cell_type": "code",
   "execution_count": null,
   "metadata": {},
   "outputs": [],
   "source": [
    "item4.secret_code ='RASEL25' #calling @secret_code.setter to update\n",
    "item4.secret_code"
   ]
  },
  {
   "cell_type": "code",
   "execution_count": null,
   "metadata": {},
   "outputs": [],
   "source": [
    "del item4.secret_code # #calling @secret_code.deleter to delete"
   ]
  },
  {
   "cell_type": "code",
   "execution_count": null,
   "metadata": {},
   "outputs": [],
   "source": [
    "item4.secret_code"
   ]
  },
  {
   "cell_type": "markdown",
   "metadata": {},
   "source": [
    "# Classmethod and Staticmethod"
   ]
  },
  {
   "cell_type": "code",
   "execution_count": 37,
   "metadata": {},
   "outputs": [],
   "source": [
    "class product:\n",
    "    \n",
    "    platform='Amazon' \n",
    "   \n",
    "    def __init__(self, p_id:int , title: str, secret_code) ->None:\n",
    "        self.p_id=p_id\n",
    "        self.title=title\n",
    "        self.__secret_code= secret_code\n",
    "\n",
    "#@classmethod   #here classmethod as decorator     \n",
    "#def cls(cls, data: str):\n",
    "    #data=data.split('-')\n",
    "\n",
    "    def __repr__(self):\n",
    "        return f\"Product(p_id={self.p_id}, title={self.title}, code={self.__secret_code})\"\n",
    "\n",
    "    @classmethod\n",
    "    def objectFromString(cls, data: str):\n",
    "        data = data.split('-')\n",
    "        return cls(int(data[0]), data[1], data[2])\n",
    "\n",
    "        "
   ]
  },
  {
   "cell_type": "code",
   "execution_count": null,
   "metadata": {},
   "outputs": [],
   "source": [
    "#data = '102526-OPP x3-RL25' # calling Cls method\n",
    "#data.split('-')"
   ]
  },
  {
   "cell_type": "code",
   "execution_count": 40,
   "metadata": {},
   "outputs": [
    {
     "data": {
      "text/plain": [
       "Product(p_id=235234, title=Nokia X3, code=7847f744edfe)"
      ]
     },
     "execution_count": 40,
     "metadata": {},
     "output_type": "execute_result"
    }
   ],
   "source": [
    "item5=product.objectFromString('235234-Nokia X3-7847f744edfe')\n",
    "item5"
   ]
  },
  {
   "cell_type": "code",
   "execution_count": 41,
   "metadata": {},
   "outputs": [
    {
     "data": {
      "text/plain": [
       "'Nokia X3'"
      ]
     },
     "execution_count": 41,
     "metadata": {},
     "output_type": "execute_result"
    }
   ],
   "source": [
    "item5.title"
   ]
  }
 ],
 "metadata": {
  "interpreter": {
   "hash": "2be5faf79681da6f2a61fdfdd5405d65d042280f7fba6178067603e3a2925119"
  },
  "kernelspec": {
   "display_name": "Python 3.10.1 64-bit",
   "language": "python",
   "name": "python3"
  },
  "language_info": {
   "codemirror_mode": {
    "name": "ipython",
    "version": 3
   },
   "file_extension": ".py",
   "mimetype": "text/x-python",
   "name": "python",
   "nbconvert_exporter": "python",
   "pygments_lexer": "ipython3",
   "version": "3.10.1"
  },
  "orig_nbformat": 4
 },
 "nbformat": 4,
 "nbformat_minor": 2
}
