{
 "cells": [
  {
   "cell_type": "code",
   "execution_count": null,
   "metadata": {},
   "outputs": [],
   "source": [
    "import numpy as np\n",
    "import matplotlib.pyplot as plt\n"
   ]
  },
  {
   "cell_type": "code",
   "execution_count": null,
   "metadata": {},
   "outputs": [],
   "source": [
    "plt.__version__"
   ]
  },
  {
   "cell_type": "markdown",
   "metadata": {},
   "source": [
    "# Pyplot\n",
    "Most of the Matplotlib utilities lies under the pyplot submodule, and are usually imported under the plt alias:"
   ]
  },
  {
   "cell_type": "markdown",
   "metadata": {},
   "source": [
    "# 1. Matplotlib Plotting"
   ]
  },
  {
   "cell_type": "code",
   "execution_count": null,
   "metadata": {},
   "outputs": [],
   "source": [
    "# Draw a line in a diagram from position (1, 3) to position (8, 10)::\n",
    "xpoints = np.array([1, 8])\n",
    "ypoints = np.array([3, 10])\n",
    "plt.figure(figsize=(15,10))\n",
    "plt.plot(xpoints, ypoints,marker='*')\n",
    "plt.grid()\n",
    "plt.show()"
   ]
  },
  {
   "cell_type": "code",
   "execution_count": null,
   "metadata": {},
   "outputs": [],
   "source": [
    "# Draw two points in the diagram, one at position (1, 3) and one in position (8, 10):\n",
    "xpoints = np.array([1, 8])\n",
    "ypoints = np.array([3, 10])\n",
    "plt.figure(figsize=(15,10))\n",
    "plt.plot(xpoints, ypoints, 'o')\n",
    "plt.show()"
   ]
  },
  {
   "cell_type": "code",
   "execution_count": null,
   "metadata": {},
   "outputs": [],
   "source": [
    "# Draw a line in a diagram from position (1, 3) to (2, 8) then to (6, 1) and finally to position (8, 10):\n",
    "xpoints = np.array([1, 2, 6, 8])\n",
    "ypoints = np.array([3, 8, 1, 10])\n",
    "plt.figure(figsize=(15,10))\n",
    "plt.plot(xpoints, ypoints)\n",
    "plt.grid()\n",
    "plt.show()"
   ]
  },
  {
   "cell_type": "markdown",
   "metadata": {},
   "source": [
    "Default X-Points\n",
    "\n",
    "If we do not specify the points in the x-axis, they will get the default values 0, 1, 2, 3, (etc. depending on the length of the y-points."
   ]
  },
  {
   "cell_type": "code",
   "execution_count": null,
   "metadata": {},
   "outputs": [],
   "source": [
    "# Plotting without x-points:\n",
    "ypoints = np.array([3, 8, 1, 10, 5, 7])\n",
    "plt.figure(figsize=(15,10))\n",
    "plt.plot(ypoints)\n",
    "plt.grid()\n",
    "plt.show()"
   ]
  },
  {
   "cell_type": "markdown",
   "metadata": {},
   "source": [
    "# 2. Matplotlib Markers"
   ]
  },
  {
   "cell_type": "code",
   "execution_count": null,
   "metadata": {},
   "outputs": [],
   "source": [
    "# Mark each point with a circle:\n",
    "ypoints = np.array([3, 8, 1, 10])\n",
    "plt.plot(ypoints, marker = 'o')\n",
    "plt.show()"
   ]
  },
  {
   "cell_type": "markdown",
   "metadata": {},
   "source": [
    "Format Strings fmt\n",
    "\n",
    "You can use also use the shortcut string notation parameter to specify the marker.\n",
    "\n",
    "This parameter is also called fmt, and is written with this syntax:\n",
    "\n",
    "# marker|line|color\n",
    "\n",
    "Line Reference \n",
    "1) '-'\tSolid line\n",
    "2) ':'\tDotted line\n",
    "3) '--'\tDashed line\n",
    "4) '-.'\tDashed/dotted line"
   ]
  },
  {
   "cell_type": "code",
   "execution_count": null,
   "metadata": {},
   "outputs": [],
   "source": [
    "ypoints = np.array([3, 8, 1, 10])\n",
    "plt.plot(ypoints, 'o:g',ms = 20, mec = 'r') # ms=20 set the size of the markers:\n",
    "plt.show()                                  # mec ='c' set the edge color to red:"
   ]
  },
  {
   "cell_type": "markdown",
   "metadata": {},
   "source": [
    "# 3. Matplotlib Line"
   ]
  },
  {
   "cell_type": "code",
   "execution_count": null,
   "metadata": {},
   "outputs": [],
   "source": [
    "# the keyword argument linestyle, or shorter ls, to change the style of the plotted line:\n",
    "ypoints = np.array([3, 8, 1, 10])\n",
    "plt.plot(ypoints, linestyle = 'dotted')\n",
    "plt.show()"
   ]
  },
  {
   "cell_type": "code",
   "execution_count": null,
   "metadata": {},
   "outputs": [],
   "source": [
    "# the keyword argument color or the shorter c to set the color of the line:\n",
    "ypoints = np.array([3, 8, 1, 10])\n",
    "plt.plot(ypoints, color = 'r')\n",
    "plt.show()"
   ]
  },
  {
   "cell_type": "code",
   "execution_count": null,
   "metadata": {},
   "outputs": [],
   "source": [
    "# the keyword argument linewidth or the shorter lw to change the width of the line.\n",
    "ypoints = np.array([3, 8, 1, 10])\n",
    "plt.plot(ypoints, linewidth = '10.5')\n",
    "plt.show()"
   ]
  },
  {
   "cell_type": "code",
   "execution_count": null,
   "metadata": {},
   "outputs": [],
   "source": [
    "# Multiple Lines\n",
    "# You can plot as many lines as you like by simply adding more plt.plot() functions:\n",
    "y1 = np.array([3, 8, 1, 10])\n",
    "y2 = np.array([6, 2, 7, 11])\n",
    "plt.plot(y1)\n",
    "plt.plot(y2)\n",
    "plt.show()"
   ]
  },
  {
   "cell_type": "code",
   "execution_count": null,
   "metadata": {},
   "outputs": [],
   "source": [
    "# Draw two lines by specifiyng the x- and y-point values for both lines:\n",
    "x1 = np.array([0, 1, 2, 3])\n",
    "y1 = np.array([3, 8, 1, 10])\n",
    "x2 = np.array([0, 1, 2, 3])\n",
    "y2 = np.array([6, 2, 7, 11])\n",
    "plt.plot(x1, y1, x2, y2)\n",
    "plt.show()"
   ]
  },
  {
   "cell_type": "markdown",
   "metadata": {},
   "source": [
    "Set Font Properties for Title and Labels\n",
    "\n",
    "You can use the fontdict parameter in xlabel(), ylabel(), and title() to set font properties for the title and labels."
   ]
  },
  {
   "cell_type": "code",
   "execution_count": null,
   "metadata": {},
   "outputs": [],
   "source": [
    "# Set font properties for the title and labels:\n",
    "x = np.array([80, 85, 90, 95, 100, 105, 110, 115, 120, 125])\n",
    "y = np.array([240, 250, 260, 270, 280, 290, 300, 310, 320, 330])\n",
    "\n",
    "font1 = {'family':'serif','color':'blue','size':20}\n",
    "font2 = {'family':'serif','color':'darkred','size':15}\n",
    "plt.title(\"Sports Watch Data\", fontdict = font1)\n",
    "plt.xlabel(\"Average Pulse\", fontdict = font2)\n",
    "plt.ylabel(\"Calorie Burnage\", fontdict = font2)\n",
    "plt.plot(x, y)\n",
    "plt.show()"
   ]
  },
  {
   "cell_type": "markdown",
   "metadata": {},
   "source": [
    "Position the Title\n",
    "\n",
    "You can use the loc parameter in title() to position the title.\n",
    "Legal values are: 'left', 'right',top, bottom and 'center'. Default value is 'center'"
   ]
  },
  {
   "cell_type": "code",
   "execution_count": null,
   "metadata": {},
   "outputs": [],
   "source": [
    "x = np.array([80, 85, 90, 95, 100, 105, 110, 115, 120, 125])\n",
    "y = np.array([240, 250, 260, 270, 280, 290, 300, 310, 320, 330])\n",
    "plt.title(\"Sports Watch Data\", loc = 'left')\n",
    "plt.xlabel(\"Average Pulse\", loc = 'left')\n",
    "plt.ylabel(\"Calorie Burnage\",loc='bottom')\n",
    "plt.plot(x, y)\n",
    "plt.show()"
   ]
  },
  {
   "cell_type": "markdown",
   "metadata": {},
   "source": [
    "# 4. Matplotlib Adding Grid Lines\n",
    "You can use the axis parameter in the grid() function to specify which grid lines to display.\n",
    "Legal values are: 'x', 'y', and 'both'. Default value is 'both'."
   ]
  },
  {
   "cell_type": "code",
   "execution_count": null,
   "metadata": {},
   "outputs": [],
   "source": [
    "# Display only grid lines for the x-axis:\n",
    "ypoints = np.array([3, 8, 1, 10])\n",
    "plt.plot(ypoints, linestyle = 'dotted')\n",
    "plt.grid(axis = 'x')\n",
    "plt.show()"
   ]
  },
  {
   "cell_type": "markdown",
   "metadata": {},
   "source": [
    "Set Line Properties for the Grid\n",
    "\n",
    "You can also set the line properties of the grid, like this: grid(color = 'color', linestyle = 'linestyle', linewidth = number)."
   ]
  },
  {
   "cell_type": "code",
   "execution_count": null,
   "metadata": {},
   "outputs": [],
   "source": [
    "# Set the line properties of the grid:\n",
    "ypoints = np.array([3, 8, 1, 10])\n",
    "plt.plot(ypoints, linestyle = 'dotted')\n",
    "plt.grid(color = 'green', linestyle = '--', linewidth = 0.5)\n",
    "plt.show()"
   ]
  },
  {
   "cell_type": "markdown",
   "metadata": {},
   "source": [
    "# 5. Matplotlib Subplot\n",
    "With the subplot() function you can draw multiple plots in one figure:"
   ]
  },
  {
   "cell_type": "code",
   "execution_count": null,
   "metadata": {},
   "outputs": [],
   "source": [
    "# Draw 2 plots:\n",
    "#plot 1:\n",
    "x = np.array([0, 1, 2, 3])\n",
    "y = np.array([3, 8, 1, 10])\n",
    "plt.subplot(1, 2, 1)\n",
    "plt.plot(x,y)\n",
    "\n",
    "#plot 2:\n",
    "x = np.array([0, 1, 2, 3])\n",
    "y = np.array([10, 20, 30, 40])\n",
    "plt.subplot(1, 2, 2)\n",
    "plt.plot(x,y)\n",
    "plt.show()"
   ]
  },
  {
   "cell_type": "code",
   "execution_count": null,
   "metadata": {},
   "outputs": [],
   "source": [
    "plt.figure(figsize=(15,10))\n",
    "x = np.array([0, 1, 2, 3])\n",
    "y = np.array([3, 8, 1, 10])\n",
    "\n",
    "plt.subplot(2, 3, 1)\n",
    "plt.plot(x,y)\n",
    "\n",
    "x = np.array([0, 1, 2, 3])\n",
    "y = np.array([10, 20, 30, 40])\n",
    "\n",
    "plt.subplot(2, 3, 2)\n",
    "plt.plot(x,y)\n",
    "\n",
    "x = np.array([0, 1, 2, 3])\n",
    "y = np.array([3, 8, 1, 10])\n",
    "\n",
    "plt.subplot(2, 3, 3)\n",
    "plt.plot(x,y)\n",
    "\n",
    "x = np.array([0, 1, 2, 3])\n",
    "y = np.array([10, 20, 30, 40])\n",
    "\n",
    "plt.subplot(2, 3, 4)\n",
    "plt.plot(x,y)\n",
    "\n",
    "x = np.array([0, 1, 2, 3])\n",
    "y = np.array([3, 8, 1, 10])\n",
    "\n",
    "plt.subplot(2, 3, 5)\n",
    "plt.plot(x,y)\n",
    "\n",
    "x = np.array([0, 1, 2, 3])\n",
    "y = np.array([10, 20, 30, 40])\n",
    "\n",
    "plt.subplot(2, 3, 6)\n",
    "plt.plot(x,y)\n",
    "\n",
    "plt.show()"
   ]
  },
  {
   "cell_type": "markdown",
   "metadata": {},
   "source": [
    "suptitle()\n",
    "\n",
    "You can add a title to the entire figure with the suptitle() function:"
   ]
  },
  {
   "cell_type": "code",
   "execution_count": null,
   "metadata": {},
   "outputs": [],
   "source": [
    "#plot 1:\n",
    "x = np.array([0, 1, 2, 3])\n",
    "y = np.array([3, 8, 1, 10])\n",
    "\n",
    "plt.subplot(1, 2, 1)\n",
    "plt.plot(x,y)\n",
    "plt.title(\"SALES\")\n",
    "\n",
    "#plot 2:\n",
    "x = np.array([0, 1, 2, 3])\n",
    "y = np.array([10, 20, 30, 40])\n",
    "\n",
    "plt.subplot(1, 2, 2)\n",
    "plt.plot(x,y)\n",
    "plt.title(\"INCOME\")\n",
    "\n",
    "plt.suptitle(\"MY SHOP\")\n",
    "plt.show()"
   ]
  },
  {
   "cell_type": "code",
   "execution_count": null,
   "metadata": {},
   "outputs": [],
   "source": [
    "# Draw two plots on the same figure:\n",
    "plt.figure(figsize=(15,10))\n",
    "\n",
    "x=np.random.random(100)\n",
    "y=np.random.random(100)\n",
    "plt.scatter(x, y)\n",
    "\n",
    "x=np.random.random(100)\n",
    "y=np.random.random(100)\n",
    "plt.scatter(x, y)\n",
    "plt.grid(color = 'c', linestyle = ':', linewidth = 2)\n",
    "plt.show()"
   ]
  },
  {
   "cell_type": "markdown",
   "metadata": {},
   "source": [
    "Colors\n",
    "\n",
    "You can set your own color for each scatter plot with the color or the c argument:"
   ]
  },
  {
   "cell_type": "code",
   "execution_count": null,
   "metadata": {},
   "outputs": [],
   "source": [
    "# Set your own color of the markers:\n",
    "plt.figure(figsize=(15,10))\n",
    "\n",
    "x=np.random.random(100)\n",
    "y=np.random.random(100)\n",
    "plt.scatter(x, y, c='k')\n",
    "\n",
    "x=np.random.random(100)\n",
    "y=np.random.random(100)\n",
    "plt.scatter(x, y, color='hotpink')\n",
    "plt.grid(color = 'y', linestyle = ':', linewidth = 2)\n",
    "plt.show()"
   ]
  },
  {
   "cell_type": "markdown",
   "metadata": {},
   "source": [
    "Color Each Dot\n",
    "\n",
    "You can even set a specific color for each dot by using an array of colors as value for the c argument:\n",
    "\n",
    "Note: You cannot use the color argument for this, only the c argument."
   ]
  },
  {
   "cell_type": "code",
   "execution_count": 59,
   "metadata": {},
   "outputs": [
    {
     "name": "stderr",
     "output_type": "stream",
     "text": [
      "C:\\Users\\Laptop Point\\AppData\\Local\\Temp\\ipykernel_7912\\1317827376.py:9: UserWarning: Matplotlib is currently using agg, which is a non-GUI backend, so cannot show the figure.\n",
      "  plt.show()\n"
     ]
    },
    {
     "data": {
      "image/png": "[encoded data removed]",
      "text/plain": [
       "<Figure size 1080x720 with 1 Axes>"
      ]
     },
     "metadata": {
      "needs_background": "light"
     },
     "output_type": "display_data"
    }
   ],
   "source": [
    "# Set your own color of the markers:\n",
    "plt.figure(figsize=(15,10))\n",
    "x=np.random.random(13)\n",
    "y=np.random.random(13)\n",
    "colors = np.array([\"red\",\"green\",\"blue\",\"yellow\",\"pink\",\"black\",\"orange\",\"purple\",\"beige\",\"brown\",\"gray\",\"cyan\",\"magenta\"])\n",
    "sizes=[100,120,130,140,150,160,170,180,190,200,210,220,230]\n",
    "plt.scatter(x, y,s=sizes,c=colors)\n",
    "plt.grid(color = 'purple', linestyle = '--', linewidth =0.5)\n",
    "plt.show()"
   ]
  },
  {
   "cell_type": "code",
   "execution_count": 60,
   "metadata": {},
   "outputs": [
    {
     "name": "stderr",
     "output_type": "stream",
     "text": [
      "C:\\Users\\Laptop Point\\AppData\\Local\\Temp\\ipykernel_7912\\1832702090.py:9: UserWarning: Matplotlib is currently using agg, which is a non-GUI backend, so cannot show the figure.\n",
      "  plt.show()\n"
     ]
    },
    {
     "data": {
      "image/png": "[encoded data removed]",
      "text/plain": [
       "<Figure size 1080x720 with 2 Axes>"
      ]
     },
     "metadata": {
      "needs_background": "light"
     },
     "output_type": "display_data"
    }
   ],
   "source": [
    "plt.figure(figsize=(15,10))\n",
    "x = np.array([5,7,8,7,2,17,2,9,4,11,12,9,6])\n",
    "y = np.array([99,86,87,88,111,86,103,87,94,78,77,85,86])\n",
    "colors = np.array([0, 10, 20, 30, 40, 45, 50, 55, 60, 70, 80, 90, 100])\n",
    "\n",
    "\n",
    "plt.scatter(x, y, c=colors, cmap='viridis' )\n",
    "plt.colorbar()\n",
    "plt.show()"
   ]
  },
  {
   "cell_type": "code",
   "execution_count": 64,
   "metadata": {},
   "outputs": [
    {
     "name": "stderr",
     "output_type": "stream",
     "text": [
      "C:\\Users\\Laptop Point\\AppData\\Local\\Temp\\ipykernel_7912\\242056937.py:12: UserWarning: Matplotlib is currently using agg, which is a non-GUI backend, so cannot show the figure.\n",
      "  plt.show()\n"
     ]
    },
    {
     "data": {
      "image/png": "[encoded data removed]",
      "text/plain": [
       "<Figure size 720x720 with 2 Axes>"
      ]
     },
     "metadata": {
      "needs_background": "light"
     },
     "output_type": "display_data"
    }
   ],
   "source": [
    "import matplotlib.pyplot as plt\n",
    "import numpy as np\n",
    "plt.figure(figsize=(10,10))\n",
    "x = np.random.randint(100, size=(10))\n",
    "y = np.random.randint(100, size=(10))\n",
    "colors = np.random.randint(100, size=(10))\n",
    "\n",
    "plt.scatter(x, y, s=200,c=colors, cmap='Accent')\n",
    "\n",
    "plt.colorbar()\n",
    "\n",
    "plt.show()"
   ]
  }
 ],
 "metadata": {
  "interpreter": {
   "hash": "2be5faf79681da6f2a61fdfdd5405d65d042280f7fba6178067603e3a2925119"
  },
  "kernelspec": {
   "display_name": "Python 3.10.1 64-bit",
   "language": "python",
   "name": "python3"
  },
  "language_info": {
   "codemirror_mode": {
    "name": "ipython",
    "version": 3
   },
   "file_extension": ".py",
   "mimetype": "text/x-python",
   "name": "python",
   "nbconvert_exporter": "python",
   "pygments_lexer": "ipython3",
   "version": "3.10.1"
  },
  "orig_nbformat": 4
 },
 "nbformat": 4,
 "nbformat_minor": 2
}
