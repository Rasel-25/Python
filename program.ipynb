{
 "cells": [
  {
   "cell_type": "code",
   "execution_count": null,
   "metadata": {},
   "outputs": [],
   "source": [
    "num1 = int(input(\"Enter Num1 : \"))\n",
    "num2 = int(input(\"Enter Num2 : \"))"
   ]
  },
  {
   "cell_type": "code",
   "execution_count": null,
   "metadata": {},
   "outputs": [],
   "source": [
    "result = num1 + num2"
   ]
  },
  {
   "cell_type": "code",
   "execution_count": null,
   "metadata": {},
   "outputs": [],
   "source": [
    "\n",
    "print(result)"
   ]
  },
  {
   "cell_type": "markdown",
   "metadata": {},
   "source": [
    " data type"
   ]
  },
  {
   "cell_type": "code",
   "execution_count": null,
   "metadata": {},
   "outputs": [],
   "source": [
    "name = 'RAsel Mahamud' \n",
    "print(name)"
   ]
  },
  {
   "cell_type": "code",
   "execution_count": null,
   "metadata": {},
   "outputs": [],
   "source": [
    "name.upper()\n",
    "name.lower()\n",
    "name.title()\n",
    "name.capitalize()\n",
    "name.count('a')\n",
    "name.find('l')\n",
    "name.index('l')\n",
    "name.endswith('d')\n",
    "name.startswith('R')\n",
    "name.isalpha()\n",
    "name.isupper()\n",
    "name.split('a')"
   ]
  },
  {
   "cell_type": "markdown",
   "metadata": {},
   "source": [
    "Complex Number"
   ]
  },
  {
   "cell_type": "code",
   "execution_count": null,
   "metadata": {},
   "outputs": [],
   "source": [
    "n=8\n",
    "c=2+3j\n",
    "print(c)\n",
    "type(c)\n",
    "complex(n)\n",
    "bool(n)\n",
    "bool(None)\n",
    "bool(0)\n",
    "bool(\"\")"
   ]
  },
  {
   "cell_type": "markdown",
   "metadata": {},
   "source": [
    "String Formatting"
   ]
  },
  {
   "cell_type": "code",
   "execution_count": null,
   "metadata": {},
   "outputs": [],
   "source": [
    "name = 'Rasel' \n",
    "age = 24\n",
    "cgpa= 3.69\n",
    "a= \" Name: {}\\n Age: {}\\n CGPA: {}\\n\\n\".format(name, age, cgpa) \n",
    "print(a)\n",
    "print(\" Name: %s\\n Age: %d\\n CGPA: %.2f\\n\\n\" %(name, age, cgpa))\n",
    "\n",
    "print(f\" Name: {name}\\n Age: {age}\\n CGPA: {cgpa}\\n\\n\")"
   ]
  },
  {
   "cell_type": "code",
   "execution_count": null,
   "metadata": {},
   "outputs": [],
   "source": [
    "roll=[1,17,True,'a',2.8,6,7]\n",
    "roll\n",
    "#Acess\n",
    "roll[2]\n",
    "roll[-3]\n",
    "#Update\n",
    "roll[2]=3\n",
    "roll[3:4+1]=4,5\n",
    "roll[0:]\n",
    "roll[:4]\n",
    "roll[2:4]\n",
    "roll[-4:-2]\n",
    "roll[-2:-4:-1]\n",
    "roll[::-1]\n",
    "roll[::2]\n",
    "#Functions on list\n",
    "len(roll)\n",
    "roll.append(8)\n",
    "roll.insert(2,'a')\n",
    "roll.count(2)\n",
    "roll.extend([11,12])\n",
    "roll.append([14,15])\n",
    "roll.pop()\n",
    "roll.pop(2)\n",
    "roll.remove(1)\n",
    "roll.sort()\n",
    "roll.sort(reverse=True)\n",
    "roll.reverse()\n",
    "sorted(roll)\n",
    "sorted(roll, reverse=True)\n"
   ]
  },
  {
   "cell_type": "code",
   "execution_count": null,
   "metadata": {},
   "outputs": [],
   "source": [
    "ShallowCopy=roll\n",
    "ShallowCopy.append(20)\n",
    "roll\n",
    "\n",
    "DeepCopy=roll.copy()\n",
    "DeepCopy.append(30)\n",
    "roll\n",
    "DeepCopy\n",
    "\n",
    "del roll[8]\n",
    "del roll\n"
   ]
  },
  {
   "cell_type": "code",
   "execution_count": null,
   "metadata": {},
   "outputs": [],
   "source": [
    "# Tuple\n",
    "t=(1,2,3,4,5,6,7,9,10,11)\n",
    "#t[2]=8 # we cannot replace the value of tuple\n",
    "#del t[5] #not possible that means any kindes of change in tuple\n",
    "t"
   ]
  },
  {
   "cell_type": "code",
   "execution_count": null,
   "metadata": {},
   "outputs": [],
   "source": [
    "tuple(roll)\n",
    "list(t)"
   ]
  },
  {
   "cell_type": "code",
   "execution_count": null,
   "metadata": {},
   "outputs": [],
   "source": [
    "#SET\n",
    "s={2,4,1,5,3,6,4,6,7} # set dose not show duplicate value and show result after sorting \n",
    " \n",
    "#s[5] # here indexing not possible\n",
    "type(s)\n",
    "s1=set(t)\n",
    "s.add(8)\n",
    "s.difference(s1)\n",
    "s,s1\n",
    "s1.difference(s)\n",
    "s.intersection(s1)\n",
    "s.union(s1)\n",
    "s.symmetric_difference(s1)\n",
    "#s.pop() # delete item from starting\n",
    "#s.discard(5)\n",
    "s"
   ]
  },
  {
   "cell_type": "code",
   "execution_count": null,
   "metadata": {},
   "outputs": [],
   "source": [
    "d= {\"Name\": \"Rasel\" , \"ID\": 172311030 , \"Dept\": \"CSE\" , \"Age\": 24}\n",
    "d \n",
    "d[\"Name\"]\n",
    "d.get(\"Name\")\n",
    "d[\"Dept\"]=\"ML\"\n",
    "d .keys()\n",
    "d.values()\n",
    "d.items()\n",
    "d[\"SUB\"]=[\"C\",\"Python\",\"DBMS\"]\n",
    "d [\"SUB\"][0]\n",
    "d.pop(\"Dept\")\n",
    "d.popitem()\n",
    "d.update({2:30,5:10})\n",
    "d.setdefault(\"Age\",23)\n",
    "d.setdefault(\"Title\",\"Khan\")\n",
    "d.fromkeys([1,2,3], 'CSE')\n",
    "d\n",
    "\n"
   ]
  },
  {
   "cell_type": "code",
   "execution_count": null,
   "metadata": {},
   "outputs": [],
   "source": [
    "[1,2,3] +[4,5,6]\n",
    "(1,2,3) +(4,5,6)\n",
    "#{1,2,3} +{4,5,6} # not possible\n",
    "{1:2,3:8} +{4:5,6:9} # not possible\n"
   ]
  },
  {
   "cell_type": "code",
   "execution_count": null,
   "metadata": {},
   "outputs": [],
   "source": [
    "[1,2,3]*3\n",
    "(1,2,3)*3\n",
    "#{1,2,3}*3 #not possible"
   ]
  },
  {
   "cell_type": "markdown",
   "metadata": {},
   "source": [
    "Operator\n"
   ]
  },
  {
   "cell_type": "code",
   "execution_count": null,
   "metadata": {},
   "outputs": [],
   "source": [
    "2**3\n",
    "5/2\n",
    "5//2\n",
    "5+3*2-2\n",
    "\n",
    "not True \n",
    "not False\n",
    "num=4\n",
    "num **=2\n",
    "num //=2\n",
    "num \n",
    "#spacial Operator\n",
    "\n",
    "\"P\" in \"Python\"\n",
    "2 in [2,3,4]\n",
    "2 not in [2,3,4]\n",
    "\n",
    "3.0==3\n",
    "# 3.0 is 3\n",
    "\n"
   ]
  },
  {
   "cell_type": "code",
   "execution_count": null,
   "metadata": {},
   "outputs": [],
   "source": [
    "list(range(1,10))\n",
    "\n",
    "range(1,10,2)\n",
    "\n",
    "#looping over list\n",
    "\n",
    "#for n in [1,2,3,4,5]:\n",
    "    #print(n)\n",
    "\n",
    "for n, m in ((1,2), (3,4), (5,6)):\n",
    "    print(n,m)\n",
    "\n",
    "for n in ((1,2), (3,4), (5,6)):\n",
    "    print(n[0], n[1])\n",
    "\n",
    "{1:2, 2:3, 3:9}.items()\n",
    "\n",
    "for v in {1:2, 2:3, 3:9}.values()\n",
    "print(v)\n"
   ]
  },
  {
   "cell_type": "code",
   "execution_count": null,
   "metadata": {},
   "outputs": [],
   "source": [
    "for v in {1:2, 2:3, 3:9}.values():\n",
    "    print(v)\n",
    "\n",
    "for k in {1:2, 2:3, 3:9}.keys():\n",
    "    print(k)"
   ]
  },
  {
   "cell_type": "code",
   "execution_count": null,
   "metadata": {},
   "outputs": [],
   "source": [
    "a=500\n",
    "b=500\n",
    "a is b\n",
    "\n",
    "id(a)\n",
    "#id(b)\n",
    "'d' is 'd'"
   ]
  },
  {
   "cell_type": "markdown",
   "metadata": {},
   "source": [
    "Function"
   ]
  },
  {
   "cell_type": "code",
   "execution_count": null,
   "metadata": {},
   "outputs": [],
   "source": [
    "def test(n):\n",
    "    if n%2==0:\n",
    "        print(\"even\")\n",
    "    else:\n",
    "        print(\"odd\")\n",
    "\n",
    "\n",
    "test(7)"
   ]
  },
  {
   "cell_type": "code",
   "execution_count": null,
   "metadata": {},
   "outputs": [],
   "source": [
    "test(7)"
   ]
  },
  {
   "cell_type": "code",
   "execution_count": null,
   "metadata": {},
   "outputs": [],
   "source": [
    "def even_odd(n:int)->str :\n",
    "    if not type(n)==int:\n",
    "        return 'valid'\n",
    "    \n",
    "    if n%2==0:\n",
    "        return 'Even'\n",
    "    else:\n",
    "        return 'Odd'\n"
   ]
  },
  {
   "cell_type": "code",
   "execution_count": null,
   "metadata": {},
   "outputs": [],
   "source": [
    "even_odd(6)\n",
    "result=even_odd(8)\n",
    "print(result)"
   ]
  },
  {
   "cell_type": "code",
   "execution_count": null,
   "metadata": {},
   "outputs": [],
   "source": [
    "\n",
    "#Kwargs = keyword Argument\n",
    "\n",
    "def even_odd(num:int,*, divider:int=2)->bool :\n",
    "  \n",
    "    if num%divider==0:\n",
    "        return True\n",
    "    else:\n",
    "        return False"
   ]
  },
  {
   "cell_type": "code",
   "execution_count": null,
   "metadata": {},
   "outputs": [],
   "source": [
    "result=even_odd(8,divider=7) #divider =3 or 3\n",
    "result"
   ]
  },
  {
   "cell_type": "code",
   "execution_count": null,
   "metadata": {},
   "outputs": [],
   "source": [
    "# function with dynamic argument  \n",
    "\n",
    "def even_odd(*num:int)->str :\n",
    "    for n in num:\n",
    "        \n",
    "        if n%2==0:\n",
    "            print(f'{n} : Even')\n",
    "        else:\n",
    "            print(f'{n} : Odd')\n"
   ]
  },
  {
   "cell_type": "code",
   "execution_count": null,
   "metadata": {},
   "outputs": [],
   "source": [
    "even_odd( 3,4,5,7,9,8)"
   ]
  },
  {
   "cell_type": "code",
   "execution_count": null,
   "metadata": {},
   "outputs": [],
   "source": [
    "# function with list argument  \n",
    "\n",
    "def even_odd(num:list[int])->str :\n",
    "    for n in num: \n",
    "        if n%2==0:\n",
    "            print(f'{n} : Even')\n",
    "        else:\n",
    "            print(f'{n} : Odd')\n"
   ]
  },
  {
   "cell_type": "code",
   "execution_count": null,
   "metadata": {},
   "outputs": [],
   "source": [
    "even_odd([3,4,5,7,9,8])"
   ]
  },
  {
   "cell_type": "markdown",
   "metadata": {},
   "source": [
    "Function with Generators"
   ]
  },
  {
   "cell_type": "code",
   "execution_count": null,
   "metadata": {},
   "outputs": [],
   "source": [
    "# return and yield are same \n",
    "def even_odd(*num:int)->str :\n",
    "    for n in num:\n",
    "        \n",
    "        if n%2==0:\n",
    "            yield f'{n} : Even'\n",
    "        else:\n",
    "            yield f'{n} : Odd'\n"
   ]
  },
  {
   "cell_type": "code",
   "execution_count": null,
   "metadata": {},
   "outputs": [],
   "source": [
    "result=even_odd(3,6,4,7,9)"
   ]
  },
  {
   "cell_type": "code",
   "execution_count": null,
   "metadata": {},
   "outputs": [],
   "source": [
    "next(result)"
   ]
  },
  {
   "cell_type": "markdown",
   "metadata": {},
   "source": [
    "Iterator"
   ]
  },
  {
   "cell_type": "code",
   "execution_count": null,
   "metadata": {},
   "outputs": [],
   "source": [
    "# next() and iter() are same \n",
    "for results in iter(result):\n",
    "    print(results)"
   ]
  },
  {
   "cell_type": "markdown",
   "metadata": {},
   "source": [
    "Dynamic Keyword argument "
   ]
  },
  {
   "cell_type": "code",
   "execution_count": null,
   "metadata": {},
   "outputs": [],
   "source": [
    "def Dynamic(**kwargs):   # ** key and value \n",
    "    print(kwargs)"
   ]
  },
  {
   "cell_type": "code",
   "execution_count": null,
   "metadata": {},
   "outputs": [],
   "source": [
    "Dynamic(name='Rasel', Age=24, Email='rasel@gmail.com')"
   ]
  },
  {
   "cell_type": "code",
   "execution_count": null,
   "metadata": {},
   "outputs": [],
   "source": [
    "def Dynamic(**kwargs):   # ** key and value \n",
    "    for key, value in kwargs.items():\n",
    "        print(key, \":\", value)\n",
    "    "
   ]
  },
  {
   "cell_type": "code",
   "execution_count": null,
   "metadata": {},
   "outputs": [],
   "source": [
    "Dynamic(name='Rasel', Age=24, Email='rasel@gmail.com')"
   ]
  },
  {
   "cell_type": "markdown",
   "metadata": {},
   "source": [
    "Lambda Function "
   ]
  },
  {
   "cell_type": "code",
   "execution_count": null,
   "metadata": {},
   "outputs": [],
   "source": [
    "# Con not use loop , alif, nested condition, multipul line\n",
    "test=lambda num: \"Even\" if num%2==0 else \"Odd\"\n",
    "test(8)"
   ]
  },
  {
   "cell_type": "code",
   "execution_count": null,
   "metadata": {},
   "outputs": [],
   "source": [
    "y=lambda m,x,c: m*x+c\n",
    "y(3,4,5)"
   ]
  },
  {
   "cell_type": "markdown",
   "metadata": {},
   "source": [
    "Map()"
   ]
  },
  {
   "cell_type": "code",
   "execution_count": null,
   "metadata": {},
   "outputs": [],
   "source": [
    "# use lambda and mam() insted of loop\n",
    "#map() store all result and return these according to list\n",
    "even_odd=lambda num: f'{num} : Even' if num%2==0 else f'{num} : Odd'\n",
    "result = list(map(even_odd, (3,5,9,7,6,8)))\n",
    "result"
   ]
  },
  {
   "cell_type": "markdown",
   "metadata": {},
   "source": [
    "filter()"
   ]
  },
  {
   "cell_type": "code",
   "execution_count": null,
   "metadata": {},
   "outputs": [],
   "source": [
    "# filtet() similar with map() but return only boollian value\n",
    "even = lambda num: True if num%2==0 else False\n",
    "even(5)"
   ]
  },
  {
   "cell_type": "code",
   "execution_count": null,
   "metadata": {},
   "outputs": [],
   "source": [
    "#filter() store only true value is dependent on true or false and return these\n",
    "even = lambda num: True if num%2==0 else False\n",
    "result=list (filter(even, (8,7,9,4,3,6,0)))\n",
    "result"
   ]
  },
  {
   "cell_type": "markdown",
   "metadata": {},
   "source": [
    "Reduce Function"
   ]
  },
  {
   "cell_type": "code",
   "execution_count": null,
   "metadata": {},
   "outputs": [],
   "source": [
    "def summation(start:int , end:int)->int:\n",
    "    sum=0\n",
    "    for num in range(start, end+1):\n",
    "        sum +=num\n",
    "    return sum"
   ]
  },
  {
   "cell_type": "code",
   "execution_count": null,
   "metadata": {},
   "outputs": [],
   "source": [
    "summation(1,10)"
   ]
  },
  {
   "cell_type": "code",
   "execution_count": null,
   "metadata": {},
   "outputs": [],
   "source": [
    "# functools is library file and reduce function alive there \n",
    "import functools\n",
    "sum=lambda a,b: a+b\n",
    "v.reduce(sum,(1,2,3,4,5,6,7,8,9,10))"
   ]
  },
  {
   "cell_type": "code",
   "execution_count": null,
   "metadata": {},
   "outputs": [],
   "source": [
    "import functools\n",
    "functools.reduce(lambda x, y: x+y, [1, 2, 3, 4, 5])"
   ]
  },
  {
   "cell_type": "markdown",
   "metadata": {},
   "source": [
    "Decorator "
   ]
  },
  {
   "cell_type": "code",
   "execution_count": 1,
   "metadata": {},
   "outputs": [],
   "source": [
    "#similar with daraz login and purchese\n",
    "def dec(func):\n",
    "    def wrap(*args,**kwargs):\n",
    "        print(\"Decorating......\")\n",
    "        result=func(*args,**kwargs)\n",
    "        return result\n",
    "    return wrap    "
   ]
  },
  {
   "cell_type": "code",
   "execution_count": 2,
   "metadata": {},
   "outputs": [
    {
     "name": "stdout",
     "output_type": "stream",
     "text": [
      "Decorating......\n"
     ]
    },
    {
     "data": {
      "text/plain": [
       "5"
      ]
     },
     "execution_count": 2,
     "metadata": {},
     "output_type": "execute_result"
    }
   ],
   "source": [
    "@dec\n",
    "def add(a:int,b:int)->int:\n",
    "    return a+b\n",
    "add(2,3)"
   ]
  }
 ],
 "metadata": {
  "interpreter": {
   "hash": "2be5faf79681da6f2a61fdfdd5405d65d042280f7fba6178067603e3a2925119"
  },
  "kernelspec": {
   "display_name": "Python 3.10.1 64-bit",
   "language": "python",
   "name": "python3"
  },
  "language_info": {
   "codemirror_mode": {
    "name": "ipython",
    "version": 3
   },
   "file_extension": ".py",
   "mimetype": "text/x-python",
   "name": "python",
   "nbconvert_exporter": "python",
   "pygments_lexer": "ipython3",
   "version": "3.10.1"
  },
  "orig_nbformat": 4
 },
 "nbformat": 4,
 "nbformat_minor": 2
}
