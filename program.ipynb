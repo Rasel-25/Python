{
 "cells": [
  {
   "cell_type": "code",
   "execution_count": 9,
   "metadata": {},
   "outputs": [],
   "source": [
    "num1 = int(input(\"Enter Num1 : \"))\n",
    "num2 = int(input(\"Enter Num2 : \"))"
   ]
  },
  {
   "cell_type": "code",
   "execution_count": 10,
   "metadata": {},
   "outputs": [],
   "source": [
    "result = num1 + num2"
   ]
  },
  {
   "cell_type": "code",
   "execution_count": 11,
   "metadata": {},
   "outputs": [
    {
     "name": "stdout",
     "output_type": "stream",
     "text": [
      "10\n"
     ]
    }
   ],
   "source": [
    "\n",
    "print(result)"
   ]
  },
  {
   "cell_type": "markdown",
   "metadata": {},
   "source": [
    " data type"
   ]
  },
  {
   "cell_type": "code",
   "execution_count": 46,
   "metadata": {},
   "outputs": [
    {
     "name": "stdout",
     "output_type": "stream",
     "text": [
      "RAsel Mahamud\n"
     ]
    }
   ],
   "source": [
    "name = 'RAsel Mahamud' \n",
    "print(name)"
   ]
  },
  {
   "cell_type": "code",
   "execution_count": 48,
   "metadata": {},
   "outputs": [
    {
     "data": {
      "text/plain": [
       "['RAsel M', 'h', 'mud']"
      ]
     },
     "execution_count": 48,
     "metadata": {},
     "output_type": "execute_result"
    }
   ],
   "source": [
    "name.upper()\n",
    "name.lower()\n",
    "name.title()\n",
    "name.capitalize()\n",
    "name.count('a')\n",
    "name.find('l')\n",
    "name.index('l')\n",
    "name.endswith('d')\n",
    "name.startswith('R')\n",
    "name.isalpha()\n",
    "name.isupper()\n",
    "name.split('a')"
   ]
  },
  {
   "cell_type": "markdown",
   "metadata": {},
   "source": [
    "Complex Number"
   ]
  },
  {
   "cell_type": "code",
   "execution_count": 60,
   "metadata": {},
   "outputs": [
    {
     "name": "stdout",
     "output_type": "stream",
     "text": [
      "(2+3j)\n"
     ]
    },
    {
     "data": {
      "text/plain": [
       "False"
      ]
     },
     "execution_count": 60,
     "metadata": {},
     "output_type": "execute_result"
    }
   ],
   "source": [
    "n=8\n",
    "c=2+3j\n",
    "print(c)\n",
    "type(c)\n",
    "complex(n)\n",
    "bool(n)\n",
    "bool(None)\n",
    "bool(0)\n",
    "bool(\"\")"
   ]
  },
  {
   "cell_type": "markdown",
   "metadata": {},
   "source": [
    "String Formatting"
   ]
  },
  {
   "cell_type": "code",
   "execution_count": 69,
   "metadata": {},
   "outputs": [
    {
     "name": "stdout",
     "output_type": "stream",
     "text": [
      " Name: Rasel\n",
      " Age: 24\n",
      " CGPA: 3.69\n",
      "\n",
      "\n",
      " Name: Rasel\n",
      " Age: 24\n",
      " CGPA: 3.69\n",
      "\n",
      "\n",
      " Name: Rasel\n",
      " Age: 24\n",
      " CGPA: 3.69\n",
      "\n",
      "\n"
     ]
    }
   ],
   "source": [
    "name = 'Rasel' \n",
    "age = 24\n",
    "cgpa= 3.69\n",
    "a= \" Name: {}\\n Age: {}\\n CGPA: {}\\n\\n\".format(name, age, cgpa) \n",
    "print(a)\n",
    "print(\" Name: %s\\n Age: %d\\n CGPA: %.2f\\n\\n\" %(name, age, cgpa))\n",
    "\n",
    "print(f\"Name: {name}\\n Age: {age}\\n CGPA: {cgpa}\\n\\n\")"
   ]
  }
 ],
 "metadata": {
  "interpreter": {
   "hash": "2be5faf79681da6f2a61fdfdd5405d65d042280f7fba6178067603e3a2925119"
  },
  "kernelspec": {
   "display_name": "Python 3.10.1 64-bit",
   "language": "python",
   "name": "python3"
  },
  "language_info": {
   "codemirror_mode": {
    "name": "ipython",
    "version": 3
   },
   "file_extension": ".py",
   "mimetype": "text/x-python",
   "name": "python",
   "nbconvert_exporter": "python",
   "pygments_lexer": "ipython3",
   "version": "3.10.1"
  },
  "orig_nbformat": 4
 },
 "nbformat": 4,
 "nbformat_minor": 2
}
