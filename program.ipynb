{
 "cells": [
  {
   "cell_type": "code",
   "execution_count": 9,
   "metadata": {},
   "outputs": [],
   "source": [
    "num1 = int(input(\"Enter Num1 : \"))\n",
    "num2 = int(input(\"Enter Num2 : \"))"
   ]
  },
  {
   "cell_type": "code",
   "execution_count": 10,
   "metadata": {},
   "outputs": [],
   "source": [
    "result = num1 + num2"
   ]
  },
  {
   "cell_type": "code",
   "execution_count": 11,
   "metadata": {},
   "outputs": [
    {
     "name": "stdout",
     "output_type": "stream",
     "text": [
      "10\n"
     ]
    }
   ],
   "source": [
    "\n",
    "print(result)"
   ]
  },
  {
   "cell_type": "markdown",
   "metadata": {},
   "source": [
    " data type"
   ]
  },
  {
   "cell_type": "code",
   "execution_count": 46,
   "metadata": {},
   "outputs": [
    {
     "name": "stdout",
     "output_type": "stream",
     "text": [
      "RAsel Mahamud\n"
     ]
    }
   ],
   "source": [
    "name = 'RAsel Mahamud' \n",
    "print(name)"
   ]
  },
  {
   "cell_type": "code",
   "execution_count": 48,
   "metadata": {},
   "outputs": [
    {
     "data": {
      "text/plain": [
       "['RAsel M', 'h', 'mud']"
      ]
     },
     "execution_count": 48,
     "metadata": {},
     "output_type": "execute_result"
    }
   ],
   "source": [
    "name.upper()\n",
    "name.lower()\n",
    "name.title()\n",
    "name.capitalize()\n",
    "name.count('a')\n",
    "name.find('l')\n",
    "name.index('l')\n",
    "name.endswith('d')\n",
    "name.startswith('R')\n",
    "name.isalpha()\n",
    "name.isupper()\n",
    "name.split('a')"
   ]
  },
  {
   "cell_type": "markdown",
   "metadata": {},
   "source": [
    "Complex Number"
   ]
  },
  {
   "cell_type": "code",
   "execution_count": 60,
   "metadata": {},
   "outputs": [
    {
     "name": "stdout",
     "output_type": "stream",
     "text": [
      "(2+3j)\n"
     ]
    },
    {
     "data": {
      "text/plain": [
       "False"
      ]
     },
     "execution_count": 60,
     "metadata": {},
     "output_type": "execute_result"
    }
   ],
   "source": [
    "n=8\n",
    "c=2+3j\n",
    "print(c)\n",
    "type(c)\n",
    "complex(n)\n",
    "bool(n)\n",
    "bool(None)\n",
    "bool(0)\n",
    "bool(\"\")"
   ]
  },
  {
   "cell_type": "markdown",
   "metadata": {},
   "source": [
    "String Formatting"
   ]
  },
  {
   "cell_type": "code",
   "execution_count": 69,
   "metadata": {},
   "outputs": [
    {
     "name": "stdout",
     "output_type": "stream",
     "text": [
      " Name: Rasel\n",
      " Age: 24\n",
      " CGPA: 3.69\n",
      "\n",
      "\n",
      " Name: Rasel\n",
      " Age: 24\n",
      " CGPA: 3.69\n",
      "\n",
      "\n",
      " Name: Rasel\n",
      " Age: 24\n",
      " CGPA: 3.69\n",
      "\n",
      "\n"
     ]
    }
   ],
   "source": [
    "name = 'Rasel' \n",
    "age = 24\n",
    "cgpa= 3.69\n",
    "a= \" Name: {}\\n Age: {}\\n CGPA: {}\\n\\n\".format(name, age, cgpa) \n",
    "print(a)\n",
    "print(\" Name: %s\\n Age: %d\\n CGPA: %.2f\\n\\n\" %(name, age, cgpa))\n",
    "\n",
    "print(f\" Name: {name}\\n Age: {age}\\n CGPA: {cgpa}\\n\\n\")"
   ]
  },
  {
   "cell_type": "code",
   "execution_count": 47,
   "metadata": {},
   "outputs": [
    {
     "data": {
      "text/plain": [
       "[17, 12, 11, 8, 7, 6, 5, 4, 3]"
      ]
     },
     "execution_count": 47,
     "metadata": {},
     "output_type": "execute_result"
    }
   ],
   "source": [
    "roll=[1,17,True,'a',2.8,6,7]\n",
    "roll\n",
    "#Acess\n",
    "roll[2]\n",
    "roll[-3]\n",
    "#Update\n",
    "roll[2]=3\n",
    "roll[3:4+1]=4,5\n",
    "roll[0:]\n",
    "roll[:4]\n",
    "roll[2:4]\n",
    "roll[-4:-2]\n",
    "roll[-2:-4:-1]\n",
    "roll[::-1]\n",
    "roll[::2]\n",
    "#Functions on list\n",
    "len(roll)\n",
    "roll.append(8)\n",
    "roll.insert(2,'a')\n",
    "roll.count(2)\n",
    "roll.extend([11,12])\n",
    "roll.append([14,15])\n",
    "roll.pop()\n",
    "roll.pop(2)\n",
    "roll.remove(1)\n",
    "roll.sort()\n",
    "roll.sort(reverse=True)\n",
    "roll.reverse()\n",
    "sorted(roll)\n",
    "sorted(roll, reverse=True)\n"
   ]
  },
  {
   "cell_type": "code",
   "execution_count": 59,
   "metadata": {},
   "outputs": [
    {
     "data": {
      "text/plain": [
       "[3, 4, 5, 6, 7, 8, 11, 12, 17, 20, 20, 20, 20, 20, 20, 20, 20]"
      ]
     },
     "execution_count": 59,
     "metadata": {},
     "output_type": "execute_result"
    }
   ],
   "source": [
    "ShallowCopy=roll\n",
    "ShallowCopy.append(20)\n",
    "roll\n",
    "\n",
    "DeepCopy=roll.copy()\n",
    "DeepCopy.append(30)\n",
    "roll\n",
    "DeepCopy\n",
    "\n",
    "del roll[8]\n",
    "del roll\n"
   ]
  },
  {
   "cell_type": "code",
   "execution_count": 97,
   "metadata": {},
   "outputs": [
    {
     "data": {
      "text/plain": [
       "(1, 2, 3, 4, 5, 6, 7, 9, 10, 11)"
      ]
     },
     "execution_count": 97,
     "metadata": {},
     "output_type": "execute_result"
    }
   ],
   "source": [
    "# Tuple\n",
    "t=(1,2,3,4,5,6,7,9,10,11)\n",
    "#t[2]=8 # we cannot replace the value of tuple\n",
    "#del t[5] #not possible that means any kindes of change in tuple\n",
    "t"
   ]
  },
  {
   "cell_type": "code",
   "execution_count": 72,
   "metadata": {},
   "outputs": [
    {
     "data": {
      "text/plain": [
       "[1, 2, 3, 4, 5, 6, 7]"
      ]
     },
     "execution_count": 72,
     "metadata": {},
     "output_type": "execute_result"
    }
   ],
   "source": [
    "tuple(roll)\n",
    "list(t)"
   ]
  },
  {
   "cell_type": "code",
   "execution_count": 104,
   "metadata": {},
   "outputs": [
    {
     "data": {
      "text/plain": [
       "{2, 3, 4, 6, 7, 8}"
      ]
     },
     "execution_count": 104,
     "metadata": {},
     "output_type": "execute_result"
    }
   ],
   "source": [
    "#SET\n",
    "s={2,4,1,5,3,6,4,6,7} # set dose not show duplicate value and show result after sorting \n",
    " \n",
    "#s[5] # here indexing not possible\n",
    "type(s)\n",
    "s1=set(t)\n",
    "s.add(8)\n",
    "s.difference(s1)\n",
    "s,s1\n",
    "s1.difference(s)\n",
    "s.intersection(s1)\n",
    "s.union(s1)\n",
    "s.symmetric_difference(s1)\n",
    "s.pop() # delete item from starting\n",
    "s.discard(5)\n",
    "s"
   ]
  }
 ],
 "metadata": {
  "interpreter": {
   "hash": "2be5faf79681da6f2a61fdfdd5405d65d042280f7fba6178067603e3a2925119"
  },
  "kernelspec": {
   "display_name": "Python 3.10.1 64-bit",
   "language": "python",
   "name": "python3"
  },
  "language_info": {
   "codemirror_mode": {
    "name": "ipython",
    "version": 3
   },
   "file_extension": ".py",
   "mimetype": "text/x-python",
   "name": "python",
   "nbconvert_exporter": "python",
   "pygments_lexer": "ipython3",
   "version": "3.10.1"
  },
  "orig_nbformat": 4
 },
 "nbformat": 4,
 "nbformat_minor": 2
}
