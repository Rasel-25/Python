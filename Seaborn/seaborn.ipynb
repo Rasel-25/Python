{
 "cells": [
  {
   "cell_type": "markdown",
   "metadata": {},
   "source": [
    "# Introduction to Seaborn – Python\n",
    "Seaborn is an amazing visualization library for statistical graphics plotting in Python. \n",
    "\n",
    "It provides beautiful default styles and color palettes to make statistical plots more attractive.\n",
    "\n",
    "It is built on the top of matplotlib library and also closely integrated to the data structures from pandas.\n",
    "\n",
    "Seaborn aims to make visualization the central part of exploring and understanding data. \n",
    "\n",
    "It provides dataset-oriented APIs, so that we can switch between different visual representations for same variables for better understanding of dataset."
   ]
  },
  {
   "cell_type": "code",
   "execution_count": null,
   "metadata": {},
   "outputs": [],
   "source": [
    "import numpy as np \n",
    "import seaborn as sns\n",
    "import pandas as pd \n",
    "import matplotlib as plt"
   ]
  },
  {
   "cell_type": "code",
   "execution_count": null,
   "metadata": {},
   "outputs": [],
   "source": [
    "sales = pd.read_excel('sales.xlsx')\n",
    "sales.head()"
   ]
  },
  {
   "cell_type": "markdown",
   "metadata": {},
   "source": [
    "# 1. Scatter plot"
   ]
  },
  {
   "cell_type": "code",
   "execution_count": null,
   "metadata": {},
   "outputs": [],
   "source": [
    "sns.relplot('Sales','Profit',data=sales)\n",
    " # relational plot which return relation between variables"
   ]
  },
  {
   "cell_type": "code",
   "execution_count": null,
   "metadata": {},
   "outputs": [],
   "source": [
    "# Hue is one of the main properties (called color appearance parameters) of a color, defined technically \n",
    "sns.set(style=\"white\")\n",
    "sns.relplot('Sales','Profit',data=sales, hue='Order Priority') #"
   ]
  },
  {
   "cell_type": "code",
   "execution_count": null,
   "metadata": {},
   "outputs": [],
   "source": [
    "sns.relplot('Sales','Profit',data=sales, hue='Order Priority',style='Ship Mode') #style  return different shapes\n",
    "sns.set(style=\"white\")"
   ]
  },
  {
   "cell_type": "code",
   "execution_count": null,
   "metadata": {},
   "outputs": [],
   "source": [
    "sns.relplot('Sales','Profit',data=sales,hue='Order Priority',size='Discount',sizes=(50,300) ) # size='Discount increase the according to Discount\n",
    "sns.set(style=\"white\") # sizes=(25,200) which increase points"
   ]
  },
  {
   "cell_type": "markdown",
   "metadata": {},
   "source": [
    "kind:  str, optional\n",
    "\n",
    "The kind of plot to draw, corresponds to the name of a categorical axes-level plotting function. Options are: “strip”, “swarm”, “box”, “violin”, “boxen”, “point”, “bar”, or “count”."
   ]
  },
  {
   "cell_type": "code",
   "execution_count": null,
   "metadata": {},
   "outputs": [],
   "source": [
    "sns.relplot('Order Date','Sales',data=sales,kind='line')"
   ]
  },
  {
   "cell_type": "code",
   "execution_count": null,
   "metadata": {},
   "outputs": [],
   "source": [
    "sales['year']=sales['Order Date'].dt.year # find out all unique date\n",
    "sales.year.unique()"
   ]
  },
  {
   "cell_type": "markdown",
   "metadata": {},
   "source": [
    "# 2. Seaborn Line Plot "
   ]
  },
  {
   "cell_type": "code",
   "execution_count": null,
   "metadata": {},
   "outputs": [],
   "source": [
    "sns.relplot('year','Sales',data=sales,kind='line')\n",
    "# getting relation between year and sales according to line graph "
   ]
  },
  {
   "cell_type": "code",
   "execution_count": null,
   "metadata": {},
   "outputs": [],
   "source": [
    "sns.relplot('year','Sales',data=sales,kind='line',ci=None)\n",
    "# getting relation between year and sales according to line graph but confidence interval(ci) none"
   ]
  },
  {
   "cell_type": "code",
   "execution_count": null,
   "metadata": {},
   "outputs": [],
   "source": [
    "sns.relplot('year','Sales',data=sales,kind='line',ci='sd')\n",
    "# getting relation between year and sales according to line graph with standard deviasion(sd)"
   ]
  },
  {
   "cell_type": "code",
   "execution_count": null,
   "metadata": {},
   "outputs": [],
   "source": [
    "sns.relplot('year','Sales',data=sales,kind='line',estimator=None) \n",
    "# getting relation between year and sales according to line graph without estimator"
   ]
  },
  {
   "cell_type": "code",
   "execution_count": null,
   "metadata": {},
   "outputs": [],
   "source": [
    "sns.relplot('year','Sales',data=sales,kind='line',estimator=sum) \n",
    "# getting relation between year and sales according to line graph with estimator sum"
   ]
  },
  {
   "cell_type": "code",
   "execution_count": null,
   "metadata": {},
   "outputs": [],
   "source": [
    "sns.catplot('year','Sales',data=sales,kind='violin') \n",
    "# getting relation between year and sales according to violin graph"
   ]
  },
  {
   "cell_type": "code",
   "execution_count": null,
   "metadata": {},
   "outputs": [],
   "source": [
    "sns.relplot('year','Sales',data=sales,kind='line',hue='Ship Mode')"
   ]
  },
  {
   "cell_type": "code",
   "execution_count": null,
   "metadata": {},
   "outputs": [],
   "source": [
    "sns.relplot('year','Sales',data=sales,kind='line',hue='Ship Mode', style='Product Category',ci=None)"
   ]
  },
  {
   "cell_type": "code",
   "execution_count": null,
   "metadata": {},
   "outputs": [],
   "source": [
    "sns.relplot('year','Sales',data=sales,kind='line',hue='Ship Mode', col='Product Category',ci=None) # col create different subplot"
   ]
  },
  {
   "cell_type": "code",
   "execution_count": null,
   "metadata": {},
   "outputs": [],
   "source": [
    "sns.relplot('year','Sales',data=sales,kind='line',hue='Ship Mode', col='Region', col_wrap=3 ,ci=None) # col_wrap= increase  rows"
   ]
  },
  {
   "cell_type": "markdown",
   "metadata": {},
   "source": [
    "# 3. Data Visualization"
   ]
  },
  {
   "cell_type": "markdown",
   "metadata": {},
   "source": [
    "Using Facet To Show Multiple Charts"
   ]
  },
  {
   "cell_type": "markdown",
   "metadata": {},
   "source": [
    " row, col, and hue\n",
    " \n",
    " A FacetGrid can be drawn with up to three dimensions: row, col, and hue. The first two have obvious correspondence with the resulting array of axes; think of the hue variable as a third dimension along a depth axis, where different levels are plotted with different colors."
   ]
  },
  {
   "cell_type": "code",
   "execution_count": null,
   "metadata": {},
   "outputs": [],
   "source": [
    "sns.relplot('Sales','Profit', data=sales, col='Customer Segment', col_wrap=2,hue='Ship Mode')"
   ]
  },
  {
   "cell_type": "code",
   "execution_count": null,
   "metadata": {},
   "outputs": [],
   "source": [
    "sns.relplot('Sales','Profit', data=sales, col='Customer Segment', col_wrap=2,hue='Ship Mode')"
   ]
  },
  {
   "cell_type": "code",
   "execution_count": null,
   "metadata": {},
   "outputs": [],
   "source": [
    "sns.relplot('Sales','Profit', data=sales, col='Customer Segment',row='Product Category' ,hue='Ship Mode') # col means column parameter "
   ]
  },
  {
   "cell_type": "markdown",
   "metadata": {},
   "source": [
    " Scatter plot or Swarm Plot"
   ]
  },
  {
   "cell_type": "code",
   "execution_count": null,
   "metadata": {},
   "outputs": [],
   "source": [
    "sns.catplot('Ship Mode', 'Sales', data=sales) # categorical plot"
   ]
  },
  {
   "cell_type": "markdown",
   "metadata": {},
   "source": [
    "jitter\n",
    "\n",
    "jitter can be used to provide displacements along the horizontal axis, which is useful when there are large clusters of data points. \n",
    "\n",
    "You can specify the amount of jitter (half the width of the uniform random variable support), or just use True for a good default."
   ]
  },
  {
   "cell_type": "code",
   "execution_count": null,
   "metadata": {},
   "outputs": [],
   "source": [
    "sns.catplot('Ship Mode', 'Sales', data=sales, jitter=False) # categorical plot"
   ]
  },
  {
   "cell_type": "code",
   "execution_count": null,
   "metadata": {},
   "outputs": [],
   "source": [
    "sns.catplot('Ship Mode', 'Sales', data=sales.query('Profit>10000') ,jitter=False) # using query to get profit>10000"
   ]
  },
  {
   "cell_type": "code",
   "execution_count": null,
   "metadata": {},
   "outputs": [],
   "source": [
    "sns.catplot('Ship Mode', 'Sales', data=sales.query('Profit>1000'),kind='swarm')  # kind='swarm' is another mod of scatter plot"
   ]
  },
  {
   "cell_type": "code",
   "execution_count": null,
   "metadata": {},
   "outputs": [],
   "source": [
    "sns.catplot( 'Sales','Ship Mode', data=sales.query('Profit>1000'),kind='swarm')# showing data horizontaly"
   ]
  },
  {
   "cell_type": "markdown",
   "metadata": {},
   "source": [
    "Box Plot Chart"
   ]
  },
  {
   "cell_type": "code",
   "execution_count": null,
   "metadata": {},
   "outputs": [],
   "source": [
    "# box plot\n",
    "sns.catplot(x='Product Category',y='Shipping Cost', data=sales, kind='box')"
   ]
  },
  {
   "cell_type": "code",
   "execution_count": null,
   "metadata": {},
   "outputs": [],
   "source": [
    "sns.catplot(x='Product Category',y='Shipping Cost', data=sales, kind='box')"
   ]
  },
  {
   "cell_type": "code",
   "execution_count": null,
   "metadata": {},
   "outputs": [],
   "source": [
    "sns.catplot(x='Product Category',y='Shipping Cost',hue='Ship Mode', data=sales, kind='box')"
   ]
  },
  {
   "cell_type": "code",
   "execution_count": null,
   "metadata": {},
   "outputs": [],
   "source": [
    " # hue_order mode order the ship mode\n",
    "sns.catplot(x='Product Category',y='Shipping Cost',hue='Ship Mode', hue_order=['Delivery Truck','Regular Air','Express Air'],data=sales, kind='box')"
   ]
  },
  {
   "cell_type": "code",
   "execution_count": null,
   "metadata": {},
   "outputs": [],
   "source": [
    "sns.catplot(x='Product Category',y='Shipping Cost',row='Ship Mode', data=sales, kind='box') # row means row parametter, which create numbers of subplot"
   ]
  },
  {
   "cell_type": "code",
   "execution_count": null,
   "metadata": {},
   "outputs": [],
   "source": [
    "# box plot of Ship Mode and Customer Segment\n",
    "sns.catplot(x='Product Category',y='Shipping Cost',col='Ship Mode', row='Customer Segment' ,data=sales, kind='box') "
   ]
  },
  {
   "cell_type": "markdown",
   "metadata": {},
   "source": [
    "Violin plot Interpretation"
   ]
  },
  {
   "cell_type": "code",
   "execution_count": null,
   "metadata": {},
   "outputs": [],
   "source": [
    "# violin plot\n",
    "sns.catplot(x='Product Category',y='Shipping Cost', data=sales, kind='violin') "
   ]
  },
  {
   "cell_type": "code",
   "execution_count": null,
   "metadata": {},
   "outputs": [],
   "source": [
    "# with Ship Mode\n",
    "sns.catplot(x='Product Category',y='Shipping Cost', hue='Ship Mode' ,data=sales, kind='violin') "
   ]
  },
  {
   "cell_type": "code",
   "execution_count": null,
   "metadata": {},
   "outputs": [],
   "source": [
    "sns.catplot(x='Product Category',y='Shipping Cost', hue='Ship Mode',inner='stick', data=sales, kind='violin') # inner='stick' show the density of information"
   ]
  },
  {
   "cell_type": "markdown",
   "metadata": {},
   "source": [
    "Bar Chart"
   ]
  },
  {
   "cell_type": "code",
   "execution_count": null,
   "metadata": {},
   "outputs": [],
   "source": [
    "# bar chart\n",
    "sns.catplot( x='Product Category',y='Sales', data=sales, kind='bar') "
   ]
  },
  {
   "cell_type": "code",
   "execution_count": null,
   "metadata": {},
   "outputs": [],
   "source": [
    "sns.catplot( x='Product Category',y='Sales', hue='Ship Mode',data=sales, kind='bar') # with ship mode"
   ]
  },
  {
   "cell_type": "code",
   "execution_count": null,
   "metadata": {},
   "outputs": [],
   "source": [
    "sns.catplot( x='Product Category',y='Sales', hue='Ship Mode',row='Customer Segment', data=sales, kind='bar') # with ship mode and Customer Segment"
   ]
  },
  {
   "cell_type": "code",
   "execution_count": null,
   "metadata": {},
   "outputs": [],
   "source": [
    "# Horizontally\n",
    "sns.catplot( y='Product Category',x='Sales', data=sales, kind='bar')"
   ]
  },
  {
   "cell_type": "markdown",
   "metadata": {},
   "source": [
    "Point Plot"
   ]
  },
  {
   "cell_type": "code",
   "execution_count": null,
   "metadata": {},
   "outputs": [],
   "source": [
    "sales.shape"
   ]
  },
  {
   "cell_type": "code",
   "execution_count": null,
   "metadata": {},
   "outputs": [],
   "source": [
    "# Point plot\n",
    "sns.catplot( x='Product Category',y='Sales', data=sales, kind='point')"
   ]
  },
  {
   "cell_type": "code",
   "execution_count": null,
   "metadata": {},
   "outputs": [],
   "source": [
    "sns.catplot( x='Product Category',y='Sales', hue='Ship Mode',data=sales, kind='point') # with ship mode"
   ]
  },
  {
   "cell_type": "code",
   "execution_count": null,
   "metadata": {},
   "outputs": [],
   "source": [
    "sns.catplot( x='Product Category',y='Sales', hue='Region',data=sales, kind='point')"
   ]
  },
  {
   "cell_type": "code",
   "execution_count": null,
   "metadata": {},
   "outputs": [],
   "source": [
    "sns.catplot( x='Product Category',y='Sales', hue='Ship Mode',col='Customer Segment',data=sales, kind='point') # with ship mode"
   ]
  },
  {
   "cell_type": "markdown",
   "metadata": {},
   "source": [
    "# 4.  Distribution Plot "
   ]
  },
  {
   "cell_type": "code",
   "execution_count": null,
   "metadata": {},
   "outputs": [],
   "source": [
    "sns.distplot(sales.Sales) # most of the Sales are close to zero"
   ]
  },
  {
   "cell_type": "code",
   "execution_count": null,
   "metadata": {},
   "outputs": [],
   "source": [
    "sns.distplot(sales.Profit) # distribution of profit"
   ]
  },
  {
   "cell_type": "code",
   "execution_count": null,
   "metadata": {},
   "outputs": [],
   "source": [
    "sns.distplot(sales.Profit, kde=False) # distribution of profit  without libe shape"
   ]
  },
  {
   "cell_type": "code",
   "execution_count": null,
   "metadata": {},
   "outputs": [],
   "source": [
    "sns.distplot(sales.Profit, hist=False) # distribution of profit  without libe histrogram"
   ]
  },
  {
   "cell_type": "code",
   "execution_count": null,
   "metadata": {},
   "outputs": [],
   "source": [
    "sns.distplot(sales.Profit, hist=False, rug=True) # distribution of profit  without libe histrogram"
   ]
  },
  {
   "cell_type": "code",
   "execution_count": null,
   "metadata": {},
   "outputs": [],
   "source": [
    "sns.distplot(sales.Profit, hist=False, rug=True) # ruh=True show the concentration of data"
   ]
  },
  {
   "cell_type": "code",
   "execution_count": null,
   "metadata": {},
   "outputs": [],
   "source": [
    "sns.distplot(sales.Profit, kde=False, rug=True, bins=100) # bins dicrease the concentration"
   ]
  },
  {
   "cell_type": "code",
   "execution_count": null,
   "metadata": {},
   "outputs": [],
   "source": [
    "sns.distplot(sales.Profit[(sales.Region=='West')], kde=False, rug=True, bins=100) # apply condition"
   ]
  },
  {
   "cell_type": "code",
   "execution_count": null,
   "metadata": {},
   "outputs": [],
   "source": [
    "sns.distplot(sales.Profit[(sales.Region=='West')& (sales.Profit>0)], kde=False, rug=True, bins=100) # apply condition"
   ]
  },
  {
   "cell_type": "code",
   "execution_count": null,
   "metadata": {},
   "outputs": [],
   "source": [
    "sns.kdeplot(sales.Profit, bw=100) # bw means bandwith which smooth the curve "
   ]
  },
  {
   "cell_type": "code",
   "execution_count": null,
   "metadata": {},
   "outputs": [],
   "source": [
    "from scipy import stats"
   ]
  },
  {
   "cell_type": "code",
   "execution_count": null,
   "metadata": {},
   "outputs": [],
   "source": [
    "shape, scale = 2., 2. \n",
    "s = np.random.gamma(shape, scale, 10)\n",
    "s"
   ]
  },
  {
   "cell_type": "code",
   "execution_count": null,
   "metadata": {},
   "outputs": [],
   "source": [
    "a=np.random.gamma(9,size=200) # Draw samples from a Gamma distribution."
   ]
  },
  {
   "cell_type": "code",
   "execution_count": null,
   "metadata": {},
   "outputs": [],
   "source": [
    "sns.distplot(a,fit=stats.gamma) # kde=gaussian kernel density estimate"
   ]
  },
  {
   "cell_type": "code",
   "execution_count": 107,
   "metadata": {},
   "outputs": [],
   "source": [
    "b=np.random.beta(7,7,size=200)\n"
   ]
  },
  {
   "cell_type": "code",
   "execution_count": 109,
   "metadata": {},
   "outputs": [
    {
     "name": "stderr",
     "output_type": "stream",
     "text": [
      "C:\\Python310\\lib\\site-packages\\seaborn\\distributions.py:2619: FutureWarning: `distplot` is a deprecated function and will be removed in a future version. Please adapt your code to use either `displot` (a figure-level function with similar flexibility) or `histplot` (an axes-level function for histograms).\n",
      "  warnings.warn(msg, FutureWarning)\n"
     ]
    },
    {
     "data": {
      "text/plain": [
       "<AxesSubplot:ylabel='Density'>"
      ]
     },
     "execution_count": 109,
     "metadata": {},
     "output_type": "execute_result"
    },
    {
     "data": {
      "image/png": "[encoded data removed]",
      "text/plain": [
       "<Figure size 432x288 with 1 Axes>"
      ]
     },
     "metadata": {},
     "output_type": "display_data"
    }
   ],
   "source": [
    "sns.distplot(b,fit=stats.beta)"
   ]
  },
  {
   "cell_type": "markdown",
   "metadata": {},
   "source": [
    " Pair and Joint Plot"
   ]
  },
  {
   "cell_type": "code",
   "execution_count": 115,
   "metadata": {},
   "outputs": [
    {
     "name": "stderr",
     "output_type": "stream",
     "text": [
      "C:\\Python310\\lib\\site-packages\\seaborn\\_decorators.py:36: FutureWarning: Pass the following variables as keyword args: x, y. From version 0.12, the only valid positional argument will be `data`, and passing other arguments without an explicit keyword will result in an error or misinterpretation.\n",
      "  warnings.warn(\n"
     ]
    },
    {
     "data": {
      "text/plain": [
       "<seaborn.axisgrid.JointGrid at 0x20949420b80>"
      ]
     },
     "execution_count": 115,
     "metadata": {},
     "output_type": "execute_result"
    },
    {
     "data": {
      "image/png": "[encoded data removed]",
      "text/plain": [
       "<Figure size 576x576 with 3 Axes>"
      ]
     },
     "metadata": {},
     "output_type": "display_data"
    }
   ],
   "source": [
    "sns.jointplot('Sales','Profit',data=sales, color='g', height=8, ratio=10)"
   ]
  },
  {
   "cell_type": "code",
   "execution_count": null,
   "metadata": {},
   "outputs": [],
   "source": []
  },
  {
   "cell_type": "code",
   "execution_count": null,
   "metadata": {},
   "outputs": [],
   "source": [
    "a.shape"
   ]
  },
  {
   "cell_type": "code",
   "execution_count": null,
   "metadata": {},
   "outputs": [],
   "source": [
    "sales.head()"
   ]
  }
 ],
 "metadata": {
  "interpreter": {
   "hash": "2be5faf79681da6f2a61fdfdd5405d65d042280f7fba6178067603e3a2925119"
  },
  "kernelspec": {
   "display_name": "Python 3.10.1 64-bit",
   "language": "python",
   "name": "python3"
  },
  "language_info": {
   "codemirror_mode": {
    "name": "ipython",
    "version": 3
   },
   "file_extension": ".py",
   "mimetype": "text/x-python",
   "name": "python",
   "nbconvert_exporter": "python",
   "pygments_lexer": "ipython3",
   "version": "3.10.1"
  },
  "orig_nbformat": 4
 },
 "nbformat": 4,
 "nbformat_minor": 2
}
