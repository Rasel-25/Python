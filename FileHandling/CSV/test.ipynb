{
 "cells": [
  {
   "cell_type": "markdown",
   "metadata": {},
   "source": [
    "# CSV -> coma separatd values"
   ]
  },
  {
   "cell_type": "code",
   "execution_count": 17,
   "metadata": {},
   "outputs": [
    {
     "data": {
      "text/plain": [
       "'1.0'"
      ]
     },
     "execution_count": 17,
     "metadata": {},
     "output_type": "execute_result"
    }
   ],
   "source": [
    "import csv\n",
    "csv.__version__"
   ]
  },
  {
   "cell_type": "code",
   "execution_count": 18,
   "metadata": {},
   "outputs": [],
   "source": [
    "# Creation of CSV file\n",
    "with open('test.csv', mode='w',newline='') as f: #newline='' remove extra space\n",
    "    writer=csv.writer(f)\n",
    "    writer.writerow(['Name','ID','Age'])\n",
    "    writer.writerows([ \n",
    "\n",
    "        ['Putin', 1, 70],\n",
    "        ['Baiden', 2, 75],\n",
    "        ['Boris', 3, 65]\n",
    "\n",
    "    ])\n"
   ]
  },
  {
   "cell_type": "code",
   "execution_count": 21,
   "metadata": {},
   "outputs": [],
   "source": [
    "with open('test.csv', mode='w',newline='') as f: #newline='' remove extra space\n",
    "    writer=csv.writer(f, delimiter='\\t') # we can use delimiter='' to separate data\n",
    "    writer.writerow(['Name','ID','Age'])\n",
    "    writer.writerows([ \n",
    "\n",
    "        ['Putin', 1, 70],\n",
    "        ['Baiden', 2, 75],\n",
    "        ['Boris', 3, 65]\n",
    "\n",
    "    ])"
   ]
  },
  {
   "cell_type": "code",
   "execution_count": 27,
   "metadata": {},
   "outputs": [
    {
     "name": "stdout",
     "output_type": "stream",
     "text": [
      "[['Name', 'ID', 'Age'], ['Putin', '1', '70'], ['Baiden', '2', '75'], ['Boris', '3', '65']]\n"
     ]
    }
   ],
   "source": [
    "# read csv file\n",
    "\n",
    "with open('test.csv', mode='r',newline='') as f: #newline='' remove extra space\n",
    "    reader=csv.reader(f, delimiter='\\t') # we can use delimiter='' to separate data\n",
    "    #print(reader)\n",
    "    print(list(reader))"
   ]
  },
  {
   "cell_type": "code",
   "execution_count": 26,
   "metadata": {},
   "outputs": [
    {
     "name": "stdout",
     "output_type": "stream",
     "text": [
      "['Name', 'ID', 'Age']\n",
      "['Putin', '1', '70']\n",
      "['Baiden', '2', '75']\n",
      "['Boris', '3', '65']\n"
     ]
    }
   ],
   "source": [
    "with open('test.csv', mode='r',newline='') as f: #newline='' remove extra space\n",
    "    reader=csv.reader(f, delimiter='\\t') # we can use delimiter='' to separate data\n",
    "    #print(reader)\n",
    "    #print(list(reader))\n",
    "    for row in reader:\n",
    "        print(row)"
   ]
  },
  {
   "cell_type": "code",
   "execution_count": 25,
   "metadata": {},
   "outputs": [
    {
     "name": "stdout",
     "output_type": "stream",
     "text": [
      "Name |ID |Age |Putin |1 |70 |Baiden |2 |75 |Boris |3 |65 |"
     ]
    }
   ],
   "source": [
    "with open('test.csv', mode='r',newline='') as f: #newline='' remove extra space\n",
    "    reader=csv.reader(f, delimiter='\\t') # we can use delimiter='' to separate data\n",
    "    #print(reader)\n",
    "    #print(list(reader))\n",
    "    for row in reader:\n",
    "        for col in row:\n",
    "            print(col,'|',end='')\n",
    "        print()"
   ]
  }
 ],
 "metadata": {
  "interpreter": {
   "hash": "2be5faf79681da6f2a61fdfdd5405d65d042280f7fba6178067603e3a2925119"
  },
  "kernelspec": {
   "display_name": "Python 3.10.1 64-bit",
   "language": "python",
   "name": "python3"
  },
  "language_info": {
   "codemirror_mode": {
    "name": "ipython",
    "version": 3
   },
   "file_extension": ".py",
   "mimetype": "text/x-python",
   "name": "python",
   "nbconvert_exporter": "python",
   "pygments_lexer": "ipython3",
   "version": "3.10.1"
  },
  "orig_nbformat": 4
 },
 "nbformat": 4,
 "nbformat_minor": 2
}
