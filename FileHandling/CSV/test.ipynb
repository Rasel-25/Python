{
 "cells": [
  {
   "cell_type": "markdown",
   "metadata": {},
   "source": [
    "# CSV -> coma separatd values"
   ]
  },
  {
   "cell_type": "code",
   "execution_count": 1,
   "metadata": {},
   "outputs": [
    {
     "data": {
      "text/plain": [
       "'1.0'"
      ]
     },
     "execution_count": 1,
     "metadata": {},
     "output_type": "execute_result"
    }
   ],
   "source": [
    "import csv\n",
    "csv.__version__"
   ]
  },
  {
   "cell_type": "code",
   "execution_count": 8,
   "metadata": {},
   "outputs": [],
   "source": [
    "# Creation of CSV file\n",
    "with open('test.csv', mode='w',newline='') as f: #newline='' remove extra space\n",
    "    writer=csv.writer(f)\n",
    "    writer.writerow(['Name','ID','Age'])\n",
    "    writer.writerows([ \n",
    "\n",
    "        ['Putin', 1, 70],\n",
    "        ['Baiden', 2, 75],\n",
    "        ['Boris', 3, 65]\n",
    "\n",
    "    ])\n"
   ]
  },
  {
   "cell_type": "code",
   "execution_count": 10,
   "metadata": {},
   "outputs": [],
   "source": [
    "with open('test.csv', mode='w',newline='') as f: #newline='' remove extra space\n",
    "    writer=csv.writer(f, delimiter='\\t') # we can use delimiter='' to separate data\n",
    "    writer.writerow(['Name','ID','Age'])\n",
    "    writer.writerows([ \n",
    "\n",
    "        ['Putin', 1, 70],\n",
    "        ['Baiden', 2, 75],\n",
    "        ['Boris', 3, 65]\n",
    "\n",
    "    ])"
   ]
  },
  {
   "cell_type": "code",
   "execution_count": 14,
   "metadata": {},
   "outputs": [
    {
     "ename": "NameError",
     "evalue": "name 'List' is not defined",
     "output_type": "error",
     "traceback": [
      "\u001b[1;31m---------------------------------------------------------------------------\u001b[0m",
      "\u001b[1;31mNameError\u001b[0m                                 Traceback (most recent call last)",
      "\u001b[1;32me:\\DATA SCIENCE\\PYTHON\\Python\\FileHandling\\CSV\\test.ipynb Cell 5'\u001b[0m in \u001b[0;36m<module>\u001b[1;34m\u001b[0m\n\u001b[0;32m      <a href='vscode-notebook-cell:/e%3A/DATA%20SCIENCE/PYTHON/Python/FileHandling/CSV/test.ipynb#ch0000005?line=3'>4</a>\u001b[0m reader\u001b[39m=\u001b[39mcsv\u001b[39m.\u001b[39mreader(f, delimiter\u001b[39m=\u001b[39m\u001b[39m'\u001b[39m\u001b[39m\\t\u001b[39;00m\u001b[39m'\u001b[39m) \u001b[39m# we can use delimiter='' to separate data\u001b[39;00m\n\u001b[0;32m      <a href='vscode-notebook-cell:/e%3A/DATA%20SCIENCE/PYTHON/Python/FileHandling/CSV/test.ipynb#ch0000005?line=4'>5</a>\u001b[0m \u001b[39m#print(reader)\u001b[39;00m\n\u001b[1;32m----> <a href='vscode-notebook-cell:/e%3A/DATA%20SCIENCE/PYTHON/Python/FileHandling/CSV/test.ipynb#ch0000005?line=5'>6</a>\u001b[0m \u001b[39mprint\u001b[39m(List(reader))\n",
      "\u001b[1;31mNameError\u001b[0m: name 'List' is not defined"
     ]
    }
   ],
   "source": [
    "# read csv file\n",
    "\n",
    "with open('test.csv', mode='w',newline='') as f: #newline='' remove extra space\n",
    "    reader=csv.reader(f, delimiter='\\t') # we can use delimiter='' to separate data\n",
    "    #print(reader)\n",
    "    print(list(reader))"
   ]
  }
 ],
 "metadata": {
  "interpreter": {
   "hash": "2be5faf79681da6f2a61fdfdd5405d65d042280f7fba6178067603e3a2925119"
  },
  "kernelspec": {
   "display_name": "Python 3.10.1 64-bit",
   "language": "python",
   "name": "python3"
  },
  "language_info": {
   "codemirror_mode": {
    "name": "ipython",
    "version": 3
   },
   "file_extension": ".py",
   "mimetype": "text/x-python",
   "name": "python",
   "nbconvert_exporter": "python",
   "pygments_lexer": "ipython3",
   "version": "3.10.1"
  },
  "orig_nbformat": 4
 },
 "nbformat": 4,
 "nbformat_minor": 2
}
