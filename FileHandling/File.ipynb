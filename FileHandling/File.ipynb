{
 "cells": [
  {
   "cell_type": "code",
   "execution_count": null,
   "metadata": {},
   "outputs": [],
   "source": []
  },
  {
   "cell_type": "markdown",
   "metadata": {},
   "source": [
    "# File Storage"
   ]
  },
  {
   "cell_type": "code",
   "execution_count": null,
   "metadata": {},
   "outputs": [],
   "source": [
    "# Write mode\n",
    "f=open('file.txt',mode='w')  # Write mode override the previous file and data\n",
    "f.write('Machine Learning')\n",
    "f.close()"
   ]
  },
  {
   "cell_type": "code",
   "execution_count": null,
   "metadata": {},
   "outputs": [],
   "source": [
    "#Append mode \n",
    "f=open('file.txt',mode='a')  # append mode add data into the file\n",
    "f.write('\\nDeep Learning')\n",
    "f.close()"
   ]
  },
  {
   "cell_type": "code",
   "execution_count": null,
   "metadata": {},
   "outputs": [],
   "source": [
    "#Read mode (read mode work by default)\n",
    "f=open('file.txt', mode='r')  # read mode read data from the file\n",
    "print(f.read())\n",
    "f.close()"
   ]
  },
  {
   "cell_type": "code",
   "execution_count": null,
   "metadata": {},
   "outputs": [],
   "source": [
    "#Read mode\n",
    "f=open('file.txt', mode='r')  # read mode read data from the file\n",
    "print(f.readline(5)) #readline show the number of character\n",
    "f.close()"
   ]
  },
  {
   "cell_type": "code",
   "execution_count": null,
   "metadata": {},
   "outputs": [],
   "source": [
    "#Read mode\n",
    "f=open('file.txt', mode='r')  # read mode read data from the file\n",
    "print(f.readlines()) #readlines show text as a list\n",
    "f.close()"
   ]
  },
  {
   "cell_type": "code",
   "execution_count": null,
   "metadata": {},
   "outputs": [],
   "source": [
    "# Exclusive mode \n",
    "f=open('file.txt',mode='x')  # Exclusive mode doesn't overrride previous file & data\n",
    "f.write('Machine Learning')  # If there is a file with the same name, it throws FileExistsError\n",
    "f.close()"
   ]
  },
  {
   "cell_type": "code",
   "execution_count": null,
   "metadata": {},
   "outputs": [],
   "source": [
    "f=open('file.txt', mode='r+')  # read and write mode -> read first then write\n",
    "print(f.read())\n",
    "f.writelines(['\\nPython has several functions.'\n",
    "'\\nFile handling is an important part of any web application.'\n",
    "])\n",
    "f.close()"
   ]
  },
  {
   "cell_type": "markdown",
   "metadata": {},
   "source": [
    "# File with session"
   ]
  },
  {
   "cell_type": "code",
   "execution_count": 32,
   "metadata": {},
   "outputs": [
    {
     "name": "stdout",
     "output_type": "stream",
     "text": [
      "Machine Learning\n",
      "Deep Learning\n",
      "Python has several functions.\n",
      "File handling is an important part of any web application.\n"
     ]
    }
   ],
   "source": [
    "with open('file.txt', mode='r+') as sess: # here don't need close a file\n",
    "    print(sess.read())                        # It closes file automatically\n"
   ]
  }
 ],
 "metadata": {
  "interpreter": {
   "hash": "2be5faf79681da6f2a61fdfdd5405d65d042280f7fba6178067603e3a2925119"
  },
  "kernelspec": {
   "display_name": "Python 3.10.1 64-bit",
   "language": "python",
   "name": "python3"
  },
  "language_info": {
   "codemirror_mode": {
    "name": "ipython",
    "version": 3
   },
   "file_extension": ".py",
   "mimetype": "text/x-python",
   "name": "python",
   "nbconvert_exporter": "python",
   "pygments_lexer": "ipython3",
   "version": "3.10.1"
  },
  "orig_nbformat": 4
 },
 "nbformat": 4,
 "nbformat_minor": 2
}
