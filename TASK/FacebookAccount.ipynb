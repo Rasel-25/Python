{
 "cells": [
  {
   "cell_type": "code",
   "execution_count": 83,
   "metadata": {},
   "outputs": [],
   "source": [
    "class Facebook:\n",
    "\n",
    "    def __init__(self, inbox: str, notifications:str, email:str, password: int):\n",
    "        print(\"Rasel Mahamud\")\n",
    "        self.notifications=notifications\n",
    "        self.inbox=inbox\n",
    "        self.email=email\n",
    "        self.__password=password\n",
    "    def __repr__(self):\n",
    "        return f\"Home  Inbox  Notifications  Account\"\n",
    "\n",
    "    def Home(self):\n",
    "        return (self.inbox,self.notifications)\n",
    "    def Account(self):\n",
    "        return (self.email, self.__password)\n",
    "    @property\n",
    "    def PassWord(self):\n",
    "        return (self.__password)\n",
    "    @PassWord.setter\n",
    "    def PassWord(self, new):\n",
    "        print(\"Update password\")\n",
    "        self.__password=new\n",
    "        return self.__password\n",
    "    #def Post(self): \n",
    "        #print(\" Post1:\\nI know it’s late… But remember the date… Pathaan time starts now\")\n",
    "        \n",
    "\n",
    "\n"
   ]
  },
  {
   "cell_type": "code",
   "execution_count": 84,
   "metadata": {},
   "outputs": [
    {
     "name": "stdout",
     "output_type": "stream",
     "text": [
      "Rasel Mahamud\n"
     ]
    },
    {
     "data": {
      "text/plain": [
       "Home  Inbox  Notifications  Account"
      ]
     },
     "execution_count": 84,
     "metadata": {},
     "output_type": "execute_result"
    }
   ],
   "source": [
    "fb=Facebook(\"Welcome\", \"It is your birthday\",\"rase@gmail.com\",102526)\n",
    "fb\n"
   ]
  },
  {
   "cell_type": "code",
   "execution_count": 79,
   "metadata": {},
   "outputs": [
    {
     "data": {
      "text/plain": [
       "('rase@gmail.com', 102526)"
      ]
     },
     "execution_count": 79,
     "metadata": {},
     "output_type": "execute_result"
    }
   ],
   "source": [
    "fb.Account()"
   ]
  },
  {
   "cell_type": "code",
   "execution_count": 80,
   "metadata": {},
   "outputs": [
    {
     "data": {
      "text/plain": [
       "('Welcome', 'It is your birthday')"
      ]
     },
     "execution_count": 80,
     "metadata": {},
     "output_type": "execute_result"
    }
   ],
   "source": [
    "fb.Home()"
   ]
  },
  {
   "cell_type": "code",
   "execution_count": 70,
   "metadata": {},
   "outputs": [
    {
     "name": "stdout",
     "output_type": "stream",
     "text": [
      "Update password\n"
     ]
    }
   ],
   "source": [
    "fb.PassWord=5103539697\n"
   ]
  },
  {
   "cell_type": "code",
   "execution_count": 71,
   "metadata": {},
   "outputs": [
    {
     "data": {
      "text/plain": [
       "5103539697"
      ]
     },
     "execution_count": 71,
     "metadata": {},
     "output_type": "execute_result"
    }
   ],
   "source": [
    "fb.PassWord"
   ]
  },
  {
   "cell_type": "code",
   "execution_count": 72,
   "metadata": {},
   "outputs": [
    {
     "data": {
      "text/plain": [
       "('rase@gmail.com', 5103539697)"
      ]
     },
     "execution_count": 72,
     "metadata": {},
     "output_type": "execute_result"
    }
   ],
   "source": [
    "fb.Account()"
   ]
  },
  {
   "cell_type": "code",
   "execution_count": 73,
   "metadata": {},
   "outputs": [
    {
     "name": "stdout",
     "output_type": "stream",
     "text": [
      " I know it’s late… But remember the date… Pathaan time starts now\n"
     ]
    }
   ],
   "source": [
    "fb.Post()"
   ]
  },
  {
   "cell_type": "markdown",
   "metadata": {},
   "source": [
    "# Inheritance"
   ]
  },
  {
   "cell_type": "code",
   "execution_count": null,
   "metadata": {},
   "outputs": [],
   "source": [
    "class Post(Facebook):\n",
    "    def __init__(self, p_id:int,title:str, category:str):\n",
    "        self.category=category\n",
    "        super().__init__(p_id, title) # calling Construct of super class\n",
    "    def __repr__(self): # use/provide self for information of object\n",
    "        return f\"Cloth(p_id={self.p_id}, title={self.title}, Category: {self.category})\""
   ]
  }
 ],
 "metadata": {
  "interpreter": {
   "hash": "2be5faf79681da6f2a61fdfdd5405d65d042280f7fba6178067603e3a2925119"
  },
  "kernelspec": {
   "display_name": "Python 3.10.1 64-bit",
   "language": "python",
   "name": "python3"
  },
  "language_info": {
   "codemirror_mode": {
    "name": "ipython",
    "version": 3
   },
   "file_extension": ".py",
   "mimetype": "text/x-python",
   "name": "python",
   "nbconvert_exporter": "python",
   "pygments_lexer": "ipython3",
   "version": "3.10.1"
  },
  "orig_nbformat": 4
 },
 "nbformat": 4,
 "nbformat_minor": 2
}
