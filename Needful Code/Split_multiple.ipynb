{
 "cells": [
  {
   "cell_type": "markdown",
   "metadata": {},
   "source": [
    "# Split multiple characters from string\n",
    "While coding or improvising your programming skill, you surely must have come across many scenarios where you wished to use .split() in Python not to split on only one character but multiple characters at once.\n",
    "\n",
    "Link: https://www.geeksforgeeks.org/python-split-multiple-characters-from-string/"
   ]
  },
  {
   "cell_type": "markdown",
   "metadata": {},
   "source": [
    "# Step-1: Split()"
   ]
  },
  {
   "cell_type": "code",
   "execution_count": 4,
   "metadata": {},
   "outputs": [
    {
     "name": "stdout",
     "output_type": "stream",
     "text": [
      "The original string is : GeeksforGeeks, is_an-awesome ! website\n",
      "\n",
      " \n",
      "The list after performing split functionality : ['GeeksforGeeks', 'is', 'an', 'awesome ', ' website']\n"
     ]
    }
   ],
   "source": [
    "# Python3 code to demonstrate working of\n",
    "# Splitting operators in String\n",
    "# Using re.split()\n",
    "\n",
    "import re\n",
    "\n",
    "data = \"GeeksforGeeks, is_an-awesome ! website\" # initializing string\n",
    "\n",
    "print(\"The original string is : \" + data) # printing original string\n",
    "\n",
    "res = re.split(', |_|-|!', data) # Using re.split() and Splitting characters in String\n",
    " \n",
    "print(\"\\n \\nThe list after performing split functionality : \" + str(res)) # printing result"
   ]
  },
  {
   "cell_type": "markdown",
   "metadata": {},
   "source": [
    "Note: \n",
    "\n",
    "The line re.split(', |_|-|!', data) tells Python to split the variable data on the characters: , or _ or – or !. The symbol “|” represents or.\n",
    "\n",
    "\n",
    "There are some symbols in regex which are treated as special symbols and have different functions. If you wish to split on such a symbol, you need to escape it using a “\\“(back-slash). List of special characters that needs to be escaped before using them:\n",
    "\n",
    ". \\ + * ? [ ^ ] $ ( ) { } = !  | : -"
   ]
  },
  {
   "cell_type": "code",
   "execution_count": 15,
   "metadata": {},
   "outputs": [
    {
     "name": "stdout",
     "output_type": "stream",
     "text": [
      "['Split', ' GeeksforGeeks', 'is', 'an', 'awesome ', ' app ', ' too']\n"
     ]
    }
   ],
   "source": [
    "import re\n",
    "newData = \"Split: GeeksforGeeks, is_an^awesome ! app + too\"\n",
    "  \n",
    "# To split \"+\" use backslash\n",
    "print(re.split(', |_|-|!|\\+|\\^|\\:', newData))"
   ]
  },
  {
   "cell_type": "markdown",
   "metadata": {},
   "source": [
    "# Step-2: findall()\n",
    "This is a bit more arcane form but saves time. It also makes use of regex like above but instead of .split() method, it uses a method called .findall().\n",
    "\n",
    "This method finds all the matching instances and returns each of them in a list. \n",
    "\n",
    "This way of splitting is best used when you don’t know the exact characters you want to split upon."
   ]
  },
  {
   "cell_type": "code",
   "execution_count": 16,
   "metadata": {},
   "outputs": [
    {
     "name": "stdout",
     "output_type": "stream",
     "text": [
      "The original string is : This, is - another : example?!\n",
      "The list after performing split functionality : ['This', 'is', 'another', 'example']\n"
     ]
    }
   ],
   "source": [
    "# Python3 code to demonstrate working of\n",
    "# Splitting operators in String\n",
    "# Using re.findall()\n",
    "import re\n",
    "\n",
    "data = \"This, is - another : example?!\" # initializing string\n",
    "\n",
    "print(\"The original string is : \" + data) # printing original string\n",
    "\n",
    "res = re.findall(r\"[\\w']+\", data) # Using re.findall() & Splitting characters in String\n",
    "\n",
    "print(\"The list after performing split functionality : \" + str(res)) # printing result\n"
   ]
  },
  {
   "cell_type": "markdown",
   "metadata": {},
   "source": [
    "Note:\n",
    "\n",
    "Here the keyword [\\w']+ indicates that it will find all the instances of alphabets or underscore(_) one or more and return them in a list.\n",
    "\n",
    "[\\w']+ won’t split upon an underscore(_) as it searches for alphabets as well as underscores."
   ]
  },
  {
   "cell_type": "code",
   "execution_count": 17,
   "metadata": {},
   "outputs": [
    {
     "name": "stdout",
     "output_type": "stream",
     "text": [
      "['This', 'is', 'underscored', '_', 'example']\n"
     ]
    }
   ],
   "source": [
    "import re\n",
    "testData = \"This, is - underscored _ example?!\"\n",
    "print(re.findall(r\"[\\w']+\", testData))"
   ]
  },
  {
   "cell_type": "markdown",
   "metadata": {},
   "source": [
    "| replace() |"
   ]
  },
  {
   "cell_type": "code",
   "execution_count": 21,
   "metadata": {},
   "outputs": [
    {
     "name": "stdout",
     "output_type": "stream",
     "text": [
      "The original string is: Let's_try, this now\n",
      "\n",
      "\n",
      "The list after performing split functionality: Let's try this now\n"
     ]
    }
   ],
   "source": [
    "# Python code to demonstrate\n",
    "# to split strings\n",
    "\n",
    "data = \"Let's_try, this now\" # Initial string\n",
    "\n",
    "print(\"The original string is: \" + data) # printing original string\n",
    " \n",
    "res = data.replace('_', ' ').replace(', ', ' ') # Using replace() & Splitting characters in String\n",
    "\n",
    "print(\"\\n\\nThe list after performing split functionality: \" + str(res)) # Printing result\n"
   ]
  },
  {
   "cell_type": "markdown",
   "metadata": {},
   "source": [
    "| replace() and split() |"
   ]
  },
  {
   "cell_type": "code",
   "execution_count": null,
   "metadata": {},
   "outputs": [],
   "source": [
    "# Python code to demonstrate\n",
    "# to split strings\n",
    "\n",
    "data = \"Let's_try, this now\" # Initial string\n",
    "\n",
    "print(\"The original string is: \" + data) # printing original string\n",
    " \n",
    "res = data.replace('_', ' ').replace(', ', ' ').split() # Using replace() and split() & Splitting characters in String\n",
    "\n",
    "print(\"\\n\\nThe list after performing split functionality: \" + str(res)) # Printing result\n"
   ]
  },
  {
   "cell_type": "markdown",
   "metadata": {},
   "source": [
    "# Regex cheat-sheet on character description\n",
    "1. \\d --> Any numeric digit from 0 to 9\n",
    "2. \\D --> Any character that is not a numeric digit from 0 to 9\n",
    "3. \\w --> Any letter, numeric digit, or the underscore character\n",
    "4. \\W --> Any character that is not a letter, numeric digit, or the underscore character\n",
    "5. \\s --> Any space, tab, or newline character\n",
    "6. \\S --> Any character that is not a space, tab, or newline"
   ]
  }
 ],
 "metadata": {
  "interpreter": {
   "hash": "2be5faf79681da6f2a61fdfdd5405d65d042280f7fba6178067603e3a2925119"
  },
  "kernelspec": {
   "display_name": "Python 3.10.1 64-bit",
   "language": "python",
   "name": "python3"
  },
  "language_info": {
   "codemirror_mode": {
    "name": "ipython",
    "version": 3
   },
   "file_extension": ".py",
   "mimetype": "text/x-python",
   "name": "python",
   "nbconvert_exporter": "python",
   "pygments_lexer": "ipython3",
   "version": "3.10.1"
  },
  "orig_nbformat": 4
 },
 "nbformat": 4,
 "nbformat_minor": 2
}
