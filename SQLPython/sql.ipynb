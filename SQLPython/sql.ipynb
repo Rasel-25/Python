{
 "cells": [
  {
   "cell_type": "code",
   "execution_count": null,
   "metadata": {},
   "outputs": [],
   "source": [
    "import sqlite3 as sq"
   ]
  },
  {
   "cell_type": "markdown",
   "metadata": {},
   "source": [
    "# SQLite\n",
    "SQLite is a C library that provides a lightweight disk-based database that doesn’t require a separate server process and allows accessing the database using a nonstandard variant of the SQL query language.\n",
    "\n",
    "Some applications can use SQLite for internal data storage. \n",
    "It’s also possible to prototype an application using SQLite and then port the code to a larger database such as PostgreSQL or Oracle."
   ]
  },
  {
   "cell_type": "code",
   "execution_count": null,
   "metadata": {},
   "outputs": [],
   "source": [
    "# Creating Connection\n",
    "conn = sq.connect('test.db') # connect() help us to create connection with our database \n",
    "                                # test.db is a  dataase file\n",
    "\n",
    "# creating a cursor\n",
    "cursor = conn.cursor() # cursor() help us to execute query\n",
    "\n",
    "# Create Table\n",
    "cursor.execute(\"\"\"CREATE TABLE std(roll_no INT PRIMARY KEY, name TEXT, age INT, branch TEXT)\"\"\")\n",
    "conn.close()"
   ]
  },
  {
   "cell_type": "markdown",
   "metadata": {},
   "source": [
    "The connect() constructor creates a connection to the MySQL server and returns a MySQLConnection object."
   ]
  },
  {
   "cell_type": "markdown",
   "metadata": {},
   "source": [
    "# Connecting to DB and creating table"
   ]
  },
  {
   "cell_type": "code",
   "execution_count": null,
   "metadata": {},
   "outputs": [],
   "source": [
    "with sq.connect('test.db') as conn:\n",
    "    cursor = conn.cursor()\n",
    "    cursor.execute(\"\"\"INSERT INTO std VALUES (?,?,?,?)\"\"\", (\n",
    "        1, \"John Smith\", 26, \"CSE\"))"
   ]
  },
  {
   "cell_type": "code",
   "execution_count": 4,
   "metadata": {},
   "outputs": [
    {
     "name": "stdout",
     "output_type": "stream",
     "text": [
      "[(1, 'John Smith', 26, 'CSE')]\n"
     ]
    }
   ],
   "source": [
    "with sq.connect('test.db') as conn: # need not closing\n",
    "    cursor=conn.cursor()\n",
    "data=cursor.execute(\"\"\"SELECT * FROM std\"\"\").fetchall()\n",
    "print(data)"
   ]
  }
 ],
 "metadata": {
  "interpreter": {
   "hash": "2be5faf79681da6f2a61fdfdd5405d65d042280f7fba6178067603e3a2925119"
  },
  "kernelspec": {
   "display_name": "Python 3.10.1 64-bit",
   "language": "python",
   "name": "python3"
  },
  "language_info": {
   "codemirror_mode": {
    "name": "ipython",
    "version": 3
   },
   "file_extension": ".py",
   "mimetype": "text/x-python",
   "name": "python",
   "nbconvert_exporter": "python",
   "pygments_lexer": "ipython3",
   "version": "3.10.1"
  },
  "orig_nbformat": 4
 },
 "nbformat": 4,
 "nbformat_minor": 2
}
