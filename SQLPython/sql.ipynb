{
 "cells": [
  {
   "cell_type": "code",
   "execution_count": null,
   "metadata": {},
   "outputs": [],
   "source": [
    "import sqlite3 as sq"
   ]
  },
  {
   "cell_type": "markdown",
   "metadata": {},
   "source": [
    "# SQLite\n",
    "SQLite is a C library that provides a lightweight disk-based database that doesn’t require a separate server process and allows accessing the database using a nonstandard variant of the SQL query language.\n",
    "\n",
    "Some applications can use SQLite for internal data storage. \n",
    "It’s also possible to prototype an application using SQLite and then port the code to a larger database such as PostgreSQL or Oracle."
   ]
  },
  {
   "cell_type": "code",
   "execution_count": null,
   "metadata": {},
   "outputs": [],
   "source": [
    "# Creating Connection\n",
    "conn = sq.connect('test.db') # connect() help us to create connection with our database \n",
    "                                # test.db is a  dataase file\n",
    "\n",
    "# creating a cursor\n",
    "cursor = conn.cursor() # cursor() help us to execute query\n",
    "\n",
    "# Create Table\n",
    "cursor.execute(\"\"\"CREATE TABLE std(roll_no INT PRIMARY KEY, name TEXT, age INT, branch TEXT)\"\"\")\n",
    "conn.close()"
   ]
  },
  {
   "cell_type": "markdown",
   "metadata": {},
   "source": [
    "The connect() constructor creates a connection to the MySQL server and returns a MySQLConnection object."
   ]
  },
  {
   "cell_type": "markdown",
   "metadata": {},
   "source": [
    "# Connecting to DB and creating table"
   ]
  },
  {
   "cell_type": "markdown",
   "metadata": {},
   "source": [
    "cursor.execute() approach is more suitable when the number of records is fairly small and you can write these records directly into the code.\n",
    "\n",
    "executemany() is use to insert multiple rows into a table"
   ]
  },
  {
   "cell_type": "code",
   "execution_count": null,
   "metadata": {},
   "outputs": [],
   "source": [
    "with sq.connect('test.db') as conn:\n",
    "    cursor = conn.cursor()\n",
    "    cursor.execute(\"\"\"INSERT INTO std VALUES (?,?,?,?)\"\"\", (\n",
    "        1, \"John Smith\", 26, \"CSE\")) # insert data dynamically"
   ]
  },
  {
   "cell_type": "code",
   "execution_count": null,
   "metadata": {},
   "outputs": [],
   "source": [
    "# insert mulipul data\n",
    "users=[]\n",
    "for i in range(2,20):\n",
    "    user=(i,f'user{i}',21+i, 'EEE')\n",
    "    users.append(user)\n"
   ]
  },
  {
   "cell_type": "code",
   "execution_count": null,
   "metadata": {},
   "outputs": [],
   "source": [
    "#using executemany\n",
    "with sq.connect('test.db') as conn:\n",
    "    cursor = conn.cursor()\n",
    "    cursor.executemany(\"\"\"INSERT INTO std VALUES (?,?,?,?)\"\"\", users)"
   ]
  },
  {
   "cell_type": "markdown",
   "metadata": {},
   "source": [
    "cursor.fetchall() returns all the rows of a query result. It returns all the rows as a list of tuples. An empty list is returned if there is no record to fetch.\n",
    "\n",
    "cursor.fetchmany(size) returns the number of rows specified by size argument.\n",
    "\n",
    "cursor.fetchone() method returns a single record or None if no more rows are available."
   ]
  },
  {
   "cell_type": "markdown",
   "metadata": {},
   "source": [
    "# Selecting data"
   ]
  },
  {
   "cell_type": "code",
   "execution_count": null,
   "metadata": {},
   "outputs": [],
   "source": [
    "\n",
    "with sq.connect('test.db') as conn: # need not closing\n",
    "    cursor=conn.cursor()\n",
    "data=cursor.execute(\"\"\"SELECT * FROM std\"\"\").fetchall()\n",
    "print(data)"
   ]
  },
  {
   "cell_type": "code",
   "execution_count": null,
   "metadata": {},
   "outputs": [],
   "source": [
    "\n",
    "# eslect some specific field\n",
    "data=cursor.execute(\"\"\"SELECT name, age FROM std\"\"\").fetchall()\n",
    "print(data)"
   ]
  },
  {
   "cell_type": "code",
   "execution_count": null,
   "metadata": {},
   "outputs": [],
   "source": [
    "# using where condition\n",
    "data=cursor.execute(\"\"\"SELECT * FROM std where age>28\"\"\").fetchall()\n",
    "print(data)"
   ]
  },
  {
   "cell_type": "code",
   "execution_count": null,
   "metadata": {},
   "outputs": [],
   "source": [
    "# using where condition\n",
    "data=cursor.execute(\"\"\"SELECT * FROM std where age>28 AND age<31\"\"\").fetchall()\n",
    "print(data)"
   ]
  },
  {
   "cell_type": "code",
   "execution_count": null,
   "metadata": {},
   "outputs": [],
   "source": [
    "# using where condition\n",
    "data=cursor.execute(\"\"\"SELECT * FROM std where age>28 OR age<31\"\"\").fetchall()\n",
    "print(data)"
   ]
  },
  {
   "cell_type": "code",
   "execution_count": null,
   "metadata": {},
   "outputs": [],
   "source": [
    "data=cursor.execute(\"\"\"SELECT * FROM std ORDER BY age DESC\"\"\").fetchall()\n",
    "print(data)"
   ]
  },
  {
   "cell_type": "code",
   "execution_count": null,
   "metadata": {},
   "outputs": [],
   "source": [
    "# using fetchone\n",
    "data=cursor.execute(\"\"\"SELECT * FROM std ORDER BY age ASC\"\"\").fetchone()\n",
    "print(data)"
   ]
  },
  {
   "cell_type": "code",
   "execution_count": null,
   "metadata": {},
   "outputs": [],
   "source": [
    "# using fetchmany\n",
    "data=cursor.execute(\"\"\"SELECT * FROM std ORDER BY age ASC\"\"\").fetchmany(5)\n",
    "print(data)"
   ]
  },
  {
   "cell_type": "markdown",
   "metadata": {},
   "source": [
    "# update"
   ]
  },
  {
   "cell_type": "code",
   "execution_count": null,
   "metadata": {},
   "outputs": [],
   "source": [
    "\n",
    "data=cursor.execute(\"\"\"UPDATE std SET branch='AIML' WHERE std.roll_no=7\"\"\")\n",
    "print(data)"
   ]
  },
  {
   "cell_type": "markdown",
   "metadata": {},
   "source": [
    "# Storing Quotes data"
   ]
  },
  {
   "cell_type": "code",
   "execution_count": null,
   "metadata": {},
   "outputs": [],
   "source": [
    "with sq.connect('test.db') as conn: # need not closing\n",
    "    cursor=conn.cursor()\n",
    "    cursor.execute(\"\"\"CREATE TABLE QUOTES( Quote TEXT , Author TEXT, Tags TEXT)\"\"\")"
   ]
  },
  {
   "cell_type": "code",
   "execution_count": 30,
   "metadata": {},
   "outputs": [],
   "source": [
    "import csv\n",
    "# read to csv file \n",
    "with open('Quotes.csv', mode='r', newline='', encoding='utf-8') as f: \n",
    "    reader = csv.reader(f, delimiter='|')   \n",
    "    #print(list(reader))\n",
    "    with sq.connect('test.db') as conn:\n",
    "        cursor = conn.cursor()\n",
    "        cursor.executemany(\"\"\"INSERT INTO QUOTES VALUES (?,?,?)\"\"\", list(reader))"
   ]
  },
  {
   "cell_type": "code",
   "execution_count": 32,
   "metadata": {},
   "outputs": [
    {
     "name": "stdout",
     "output_type": "stream",
     "text": [
      "('Quote', 'Author', 'Tags')\n"
     ]
    }
   ],
   "source": [
    "data=cursor.execute(\"\"\"SELECT * FROM QUOTES\"\"\").fetchall()\n",
    "print(data[0])"
   ]
  }
 ],
 "metadata": {
  "interpreter": {
   "hash": "2be5faf79681da6f2a61fdfdd5405d65d042280f7fba6178067603e3a2925119"
  },
  "kernelspec": {
   "display_name": "Python 3.10.1 64-bit",
   "language": "python",
   "name": "python3"
  },
  "language_info": {
   "codemirror_mode": {
    "name": "ipython",
    "version": 3
   },
   "file_extension": ".py",
   "mimetype": "text/x-python",
   "name": "python",
   "nbconvert_exporter": "python",
   "pygments_lexer": "ipython3",
   "version": "3.10.1"
  },
  "orig_nbformat": 4
 },
 "nbformat": 4,
 "nbformat_minor": 2
}
